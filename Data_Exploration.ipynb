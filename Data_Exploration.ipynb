{
 "cells": [
  {
   "cell_type": "code",
   "execution_count": 1,
   "metadata": {
    "colab": {
     "base_uri": "https://localhost:8080/"
    },
    "id": "Vknm3wHsXuc3",
    "outputId": "1b5e43df-793e-4ff1-982d-71b315a60c44",
    "scrolled": true
   },
   "outputs": [],
   "source": [
    "import psycopg2\n",
    "import psycopg2.extras\n",
    "import pandas as pd"
   ]
  },
  {
   "cell_type": "code",
   "execution_count": 2,
   "metadata": {
    "id": "b-z4WoLVXz0x"
   },
   "outputs": [],
   "source": [
    "# Connect to the database\n",
    "connection = psycopg2.connect(host='3.230.203.12',\n",
    "                             user='compdb',\n",
    "                             port=5438,\n",
    "                             database='twitter',\n",
    "                             password='compdbs_postgres')\n",
    "connection.set_session(readonly=True, autocommit=True)\n",
    "\n",
    "#Dict cursor\n",
    "cur = connection.cursor(cursor_factory = psycopg2.extras.RealDictCursor)"
   ]
  },
  {
   "cell_type": "markdown",
   "metadata": {
    "id": "drmbcbG0Zfaa"
   },
   "source": [
    "### Creating user dataframe from Twitter's Users table"
   ]
  },
  {
   "cell_type": "code",
   "execution_count": 3,
   "metadata": {
    "colab": {
     "base_uri": "https://localhost:8080/",
     "height": 513
    },
    "id": "X2kUXyDwX9D9",
    "outputId": "3593449e-c8a6-4869-e2c9-18aa3546a6f0",
    "scrolled": true
   },
   "outputs": [
    {
     "name": "stderr",
     "output_type": "stream",
     "text": [
      "C:\\Users\\HP\\anaconda3\\lib\\site-packages\\pandas\\io\\sql.py:761: UserWarning: pandas only support SQLAlchemy connectable(engine/connection) ordatabase string URI or sqlite3 DBAPI2 connectionother DBAPI2 objects are not tested, please consider using SQLAlchemy\n",
      "  warnings.warn(\n"
     ]
    },
    {
     "data": {
      "text/html": [
       "<div>\n",
       "<style scoped>\n",
       "    .dataframe tbody tr th:only-of-type {\n",
       "        vertical-align: middle;\n",
       "    }\n",
       "\n",
       "    .dataframe tbody tr th {\n",
       "        vertical-align: top;\n",
       "    }\n",
       "\n",
       "    .dataframe thead th {\n",
       "        text-align: right;\n",
       "    }\n",
       "</style>\n",
       "<table border=\"1\" class=\"dataframe\">\n",
       "  <thead>\n",
       "    <tr style=\"text-align: right;\">\n",
       "      <th></th>\n",
       "      <th>created_date</th>\n",
       "      <th>description</th>\n",
       "      <th>favorites_count</th>\n",
       "      <th>friends_count</th>\n",
       "      <th>user_id</th>\n",
       "      <th>listed_count</th>\n",
       "      <th>location</th>\n",
       "      <th>name</th>\n",
       "      <th>screen_name</th>\n",
       "      <th>statuses_count</th>\n",
       "      <th>url</th>\n",
       "      <th>verified</th>\n",
       "    </tr>\n",
       "  </thead>\n",
       "  <tbody>\n",
       "    <tr>\n",
       "      <th>0</th>\n",
       "      <td>2019-02-01</td>\n",
       "      <td>4th from the Sun, also known as the Red Planet...</td>\n",
       "      <td>4533.0</td>\n",
       "      <td>72.0</td>\n",
       "      <td>1091459141397180416</td>\n",
       "      <td>121.0</td>\n",
       "      <td>The Milkyway Galaxy</td>\n",
       "      <td>Mars</td>\n",
       "      <td>4thFromOurStar</td>\n",
       "      <td>253</td>\n",
       "      <td>None</td>\n",
       "      <td>None</td>\n",
       "    </tr>\n",
       "    <tr>\n",
       "      <th>1</th>\n",
       "      <td>2014-12-06</td>\n",
       "      <td>The ocular engine. \\nSources: @archillinks\\nht...</td>\n",
       "      <td>9599.0</td>\n",
       "      <td>1.0</td>\n",
       "      <td>2907774137</td>\n",
       "      <td>8781.0</td>\n",
       "      <td>Meta</td>\n",
       "      <td>Archillect</td>\n",
       "      <td>archillect</td>\n",
       "      <td>319440</td>\n",
       "      <td>https://t.co/l6SZrvMcZV</td>\n",
       "      <td>None</td>\n",
       "    </tr>\n",
       "    <tr>\n",
       "      <th>2</th>\n",
       "      <td>2020-05-26</td>\n",
       "      <td>A collection of artifacts of cultural and hist...</td>\n",
       "      <td>702.0</td>\n",
       "      <td>10128.0</td>\n",
       "      <td>1265155918355980288</td>\n",
       "      <td>805.0</td>\n",
       "      <td>None</td>\n",
       "      <td>Museum Archive</td>\n",
       "      <td>ArtifactsHub</td>\n",
       "      <td>753</td>\n",
       "      <td>None</td>\n",
       "      <td>None</td>\n",
       "    </tr>\n",
       "    <tr>\n",
       "      <th>3</th>\n",
       "      <td>2009-10-28</td>\n",
       "      <td>Astronaut,Ph.D. Counsel of WFP Japan. Tokyo Ol...</td>\n",
       "      <td>1.0</td>\n",
       "      <td>16.0</td>\n",
       "      <td>85891683</td>\n",
       "      <td>19093.0</td>\n",
       "      <td>International Space Station</td>\n",
       "      <td>NOGUCHI, Soichi 野口　聡－（のぐち　そういち）</td>\n",
       "      <td>Astro_Soichi</td>\n",
       "      <td>5645</td>\n",
       "      <td>https://t.co/JgOEk2Thbp</td>\n",
       "      <td>True</td>\n",
       "    </tr>\n",
       "    <tr>\n",
       "      <th>4</th>\n",
       "      <td>2009-07-15</td>\n",
       "      <td>The definitive guide to the world's hidden won...</td>\n",
       "      <td>20172.0</td>\n",
       "      <td>3340.0</td>\n",
       "      <td>57047586</td>\n",
       "      <td>5199.0</td>\n",
       "      <td>Everywhere</td>\n",
       "      <td>Atlas Obscura</td>\n",
       "      <td>atlasobscura</td>\n",
       "      <td>70779</td>\n",
       "      <td>http://t.co/eRquXCISa8</td>\n",
       "      <td>True</td>\n",
       "    </tr>\n",
       "  </tbody>\n",
       "</table>\n",
       "</div>"
      ],
      "text/plain": [
       "  created_date                                        description  \\\n",
       "0   2019-02-01  4th from the Sun, also known as the Red Planet...   \n",
       "1   2014-12-06  The ocular engine. \\nSources: @archillinks\\nht...   \n",
       "2   2020-05-26  A collection of artifacts of cultural and hist...   \n",
       "3   2009-10-28  Astronaut,Ph.D. Counsel of WFP Japan. Tokyo Ol...   \n",
       "4   2009-07-15  The definitive guide to the world's hidden won...   \n",
       "\n",
       "   favorites_count  friends_count              user_id  listed_count  \\\n",
       "0           4533.0           72.0  1091459141397180416         121.0   \n",
       "1           9599.0            1.0           2907774137        8781.0   \n",
       "2            702.0        10128.0  1265155918355980288         805.0   \n",
       "3              1.0           16.0             85891683       19093.0   \n",
       "4          20172.0         3340.0             57047586        5199.0   \n",
       "\n",
       "                      location                             name  \\\n",
       "0          The Milkyway Galaxy                             Mars   \n",
       "1                         Meta                       Archillect   \n",
       "2                         None                   Museum Archive   \n",
       "3  International Space Station  NOGUCHI, Soichi 野口　聡－（のぐち　そういち）   \n",
       "4                   Everywhere                    Atlas Obscura   \n",
       "\n",
       "      screen_name  statuses_count                      url verified  \n",
       "0  4thFromOurStar             253                     None     None  \n",
       "1      archillect          319440  https://t.co/l6SZrvMcZV     None  \n",
       "2    ArtifactsHub             753                     None     None  \n",
       "3    Astro_Soichi            5645  https://t.co/JgOEk2Thbp     True  \n",
       "4    atlasobscura           70779   http://t.co/eRquXCISa8     True  "
      ]
     },
     "execution_count": 3,
     "metadata": {},
     "output_type": "execute_result"
    }
   ],
   "source": [
    "user_df = pd.read_sql(\"\"\"SELECT * FROM twitter.users \"\"\",\n",
    "                 connection)\n",
    "user_df.head(5)"
   ]
  },
  {
   "cell_type": "code",
   "execution_count": 4,
   "metadata": {
    "colab": {
     "base_uri": "https://localhost:8080/"
    },
    "id": "aJ3BOZSWZtrz",
    "outputId": "afa79354-644a-4a62-85f6-b4cb2e028458"
   },
   "outputs": [
    {
     "name": "stdout",
     "output_type": "stream",
     "text": [
      "<class 'pandas.core.frame.DataFrame'>\n",
      "RangeIndex: 25099 entries, 0 to 25098\n",
      "Data columns (total 12 columns):\n",
      " #   Column           Non-Null Count  Dtype  \n",
      "---  ------           --------------  -----  \n",
      " 0   created_date     25099 non-null  object \n",
      " 1   description      20569 non-null  object \n",
      " 2   favorites_count  24905 non-null  float64\n",
      " 3   friends_count    25023 non-null  float64\n",
      " 4   user_id          25099 non-null  object \n",
      " 5   listed_count     15213 non-null  float64\n",
      " 6   location         16148 non-null  object \n",
      " 7   name             25095 non-null  object \n",
      " 8   screen_name      25099 non-null  object \n",
      " 9   statuses_count   25099 non-null  int64  \n",
      " 10  url              7533 non-null   object \n",
      " 11  verified         321 non-null    object \n",
      "dtypes: float64(3), int64(1), object(8)\n",
      "memory usage: 2.3+ MB\n"
     ]
    }
   ],
   "source": [
    "#Finding out the info about the user dataframe\n",
    "user_df.info()"
   ]
  },
  {
   "cell_type": "code",
   "execution_count": 5,
   "metadata": {
    "id": "teCy2i6SaJpx"
   },
   "outputs": [],
   "source": [
    "#Dropping the columns that we don't need for analysis\n",
    "user_df = user_df.drop(['description','url','name'],axis=1)"
   ]
  },
  {
   "cell_type": "code",
   "execution_count": 6,
   "metadata": {
    "id": "ZjXm8d9_aJtK"
   },
   "outputs": [
    {
     "data": {
      "text/plain": [
       "created_date           0\n",
       "favorites_count      194\n",
       "friends_count         76\n",
       "user_id                0\n",
       "listed_count        9886\n",
       "location            8951\n",
       "screen_name            0\n",
       "statuses_count         0\n",
       "verified           24778\n",
       "dtype: int64"
      ]
     },
     "execution_count": 6,
     "metadata": {},
     "output_type": "execute_result"
    }
   ],
   "source": [
    "#Finding out the null values that exists in the dataframe\n",
    "user_df.isnull().sum()"
   ]
  },
  {
   "cell_type": "code",
   "execution_count": 7,
   "metadata": {
    "id": "js4o_oBCaJnf"
   },
   "outputs": [
    {
     "data": {
      "text/plain": [
       "(25099, 9)"
      ]
     },
     "execution_count": 7,
     "metadata": {},
     "output_type": "execute_result"
    }
   ],
   "source": [
    "#Size of the dataframe\n",
    "user_df.shape"
   ]
  },
  {
   "cell_type": "code",
   "execution_count": 8,
   "metadata": {
    "id": "2MBg9l3zaJkH",
    "scrolled": true
   },
   "outputs": [
    {
     "data": {
      "text/plain": [
       "2020-05-29    59\n",
       "2021-01-10    56\n",
       "2021-01-09    52\n",
       "2021-01-07    52\n",
       "2021-01-08    42\n",
       "2021-01-11    37\n",
       "2021-01-04    31\n",
       "2020-12-31    30\n",
       "2020-11-15    29\n",
       "2020-12-22    28\n",
       "Name: created_date, dtype: int64"
      ]
     },
     "execution_count": 8,
     "metadata": {},
     "output_type": "execute_result"
    }
   ],
   "source": [
    "#Count occurrences (unique values) in created date column\n",
    "date = user_df['created_date'].value_counts().sort_values(ascending=False)\n",
    "date.head(10)"
   ]
  },
  {
   "cell_type": "code",
   "execution_count": 9,
   "metadata": {},
   "outputs": [
    {
     "data": {
      "text/html": [
       "<div>\n",
       "<style scoped>\n",
       "    .dataframe tbody tr th:only-of-type {\n",
       "        vertical-align: middle;\n",
       "    }\n",
       "\n",
       "    .dataframe tbody tr th {\n",
       "        vertical-align: top;\n",
       "    }\n",
       "\n",
       "    .dataframe thead th {\n",
       "        text-align: right;\n",
       "    }\n",
       "</style>\n",
       "<table border=\"1\" class=\"dataframe\">\n",
       "  <thead>\n",
       "    <tr style=\"text-align: right;\">\n",
       "      <th></th>\n",
       "      <th>created_date</th>\n",
       "      <th>favorites_count</th>\n",
       "      <th>friends_count</th>\n",
       "      <th>user_id</th>\n",
       "      <th>listed_count</th>\n",
       "      <th>location</th>\n",
       "      <th>screen_name</th>\n",
       "      <th>statuses_count</th>\n",
       "      <th>verified</th>\n",
       "    </tr>\n",
       "  </thead>\n",
       "  <tbody>\n",
       "    <tr>\n",
       "      <th>281</th>\n",
       "      <td>2020-05-29</td>\n",
       "      <td>3428.0</td>\n",
       "      <td>247.0</td>\n",
       "      <td>1266513575587336194</td>\n",
       "      <td>1.0</td>\n",
       "      <td>Roux</td>\n",
       "      <td>pxstel_clouds</td>\n",
       "      <td>137</td>\n",
       "      <td>None</td>\n",
       "    </tr>\n",
       "    <tr>\n",
       "      <th>601</th>\n",
       "      <td>2020-05-29</td>\n",
       "      <td>4928.0</td>\n",
       "      <td>405.0</td>\n",
       "      <td>1266434850036183042</td>\n",
       "      <td>NaN</td>\n",
       "      <td>anime | kpop | music | 20</td>\n",
       "      <td>hailshanism</td>\n",
       "      <td>3301</td>\n",
       "      <td>None</td>\n",
       "    </tr>\n",
       "    <tr>\n",
       "      <th>791</th>\n",
       "      <td>2020-05-29</td>\n",
       "      <td>13750.0</td>\n",
       "      <td>245.0</td>\n",
       "      <td>1266283004575404036</td>\n",
       "      <td>NaN</td>\n",
       "      <td>None</td>\n",
       "      <td>M7md_jsm</td>\n",
       "      <td>2753</td>\n",
       "      <td>None</td>\n",
       "    </tr>\n",
       "    <tr>\n",
       "      <th>2485</th>\n",
       "      <td>2020-05-29</td>\n",
       "      <td>996.0</td>\n",
       "      <td>1458.0</td>\n",
       "      <td>1266477086639706112</td>\n",
       "      <td>1.0</td>\n",
       "      <td>Coachella, CA</td>\n",
       "      <td>ArletteeeMora</td>\n",
       "      <td>1008</td>\n",
       "      <td>None</td>\n",
       "    </tr>\n",
       "    <tr>\n",
       "      <th>2604</th>\n",
       "      <td>2020-05-29</td>\n",
       "      <td>55.0</td>\n",
       "      <td>49.0</td>\n",
       "      <td>1266477871666810887</td>\n",
       "      <td>NaN</td>\n",
       "      <td>None</td>\n",
       "      <td>KiahMusokotwane</td>\n",
       "      <td>140</td>\n",
       "      <td>None</td>\n",
       "    </tr>\n",
       "  </tbody>\n",
       "</table>\n",
       "</div>"
      ],
      "text/plain": [
       "     created_date  favorites_count  friends_count              user_id  \\\n",
       "281    2020-05-29           3428.0          247.0  1266513575587336194   \n",
       "601    2020-05-29           4928.0          405.0  1266434850036183042   \n",
       "791    2020-05-29          13750.0          245.0  1266283004575404036   \n",
       "2485   2020-05-29            996.0         1458.0  1266477086639706112   \n",
       "2604   2020-05-29             55.0           49.0  1266477871666810887   \n",
       "\n",
       "      listed_count                   location      screen_name  \\\n",
       "281            1.0                       Roux    pxstel_clouds   \n",
       "601            NaN  anime | kpop | music | 20      hailshanism   \n",
       "791            NaN                       None         M7md_jsm   \n",
       "2485           1.0              Coachella, CA    ArletteeeMora   \n",
       "2604           NaN                       None  KiahMusokotwane   \n",
       "\n",
       "      statuses_count verified  \n",
       "281              137     None  \n",
       "601             3301     None  \n",
       "791             2753     None  \n",
       "2485            1008     None  \n",
       "2604             140     None  "
      ]
     },
     "execution_count": 9,
     "metadata": {},
     "output_type": "execute_result"
    }
   ],
   "source": [
    "acc_creation = pd.to_datetime(\"2020-05-29\").date()\n",
    "date1= user_df[user_df['created_date']== acc_creation]\n",
    "date1.head()"
   ]
  },
  {
   "cell_type": "markdown",
   "metadata": {},
   "source": [
    "### Unique users"
   ]
  },
  {
   "cell_type": "code",
   "execution_count": 64,
   "metadata": {},
   "outputs": [
    {
     "data": {
      "text/plain": [
       "25099"
      ]
     },
     "execution_count": 64,
     "metadata": {},
     "output_type": "execute_result"
    }
   ],
   "source": [
    "user_df['user_id'].nunique()"
   ]
  },
  {
   "cell_type": "markdown",
   "metadata": {},
   "source": [
    "### Maximum friends count"
   ]
  },
  {
   "cell_type": "code",
   "execution_count": 68,
   "metadata": {},
   "outputs": [
    {
     "data": {
      "text/plain": [
       "1230"
      ]
     },
     "execution_count": 68,
     "metadata": {},
     "output_type": "execute_result"
    }
   ],
   "source": [
    "user_df['friends_count'].argmax()"
   ]
  },
  {
   "cell_type": "code",
   "execution_count": 70,
   "metadata": {},
   "outputs": [
    {
     "data": {
      "text/plain": [
       "created_date             2009-04-21\n",
       "favorites_count                71.0\n",
       "friends_count             1180574.0\n",
       "user_id                    34047021\n",
       "listed_count                 3044.0\n",
       "location           where love is...\n",
       "screen_name         sherylunderwood\n",
       "statuses_count               110147\n",
       "verified                       True\n",
       "Name: 1230, dtype: object"
      ]
     },
     "execution_count": 70,
     "metadata": {},
     "output_type": "execute_result"
    }
   ],
   "source": [
    "user_df.loc[1230]"
   ]
  },
  {
   "cell_type": "code",
   "execution_count": 10,
   "metadata": {
    "id": "gALWS3u3aJh_",
    "scrolled": true
   },
   "outputs": [
    {
     "data": {
      "text/html": [
       "<div>\n",
       "<style scoped>\n",
       "    .dataframe tbody tr th:only-of-type {\n",
       "        vertical-align: middle;\n",
       "    }\n",
       "\n",
       "    .dataframe tbody tr th {\n",
       "        vertical-align: top;\n",
       "    }\n",
       "\n",
       "    .dataframe thead th {\n",
       "        text-align: right;\n",
       "    }\n",
       "</style>\n",
       "<table border=\"1\" class=\"dataframe\">\n",
       "  <thead>\n",
       "    <tr style=\"text-align: right;\">\n",
       "      <th></th>\n",
       "      <th>created_date</th>\n",
       "      <th>favorites_count</th>\n",
       "      <th>friends_count</th>\n",
       "      <th>user_id</th>\n",
       "      <th>listed_count</th>\n",
       "      <th>location</th>\n",
       "      <th>screen_name</th>\n",
       "      <th>statuses_count</th>\n",
       "      <th>verified</th>\n",
       "    </tr>\n",
       "  </thead>\n",
       "  <tbody>\n",
       "    <tr>\n",
       "      <th>17</th>\n",
       "      <td>2009-06-02</td>\n",
       "      <td>7739.0</td>\n",
       "      <td>103.0</td>\n",
       "      <td>44196397</td>\n",
       "      <td>58763.0</td>\n",
       "      <td>None</td>\n",
       "      <td>elonmusk</td>\n",
       "      <td>13295</td>\n",
       "      <td>True</td>\n",
       "    </tr>\n",
       "  </tbody>\n",
       "</table>\n",
       "</div>"
      ],
      "text/plain": [
       "   created_date  favorites_count  friends_count   user_id  listed_count  \\\n",
       "17   2009-06-02           7739.0          103.0  44196397       58763.0   \n",
       "\n",
       "   location screen_name  statuses_count verified  \n",
       "17     None    elonmusk           13295     True  "
      ]
     },
     "execution_count": 10,
     "metadata": {},
     "output_type": "execute_result"
    }
   ],
   "source": [
    "df1 = user_df[user_df['screen_name']=='elonmusk']\n",
    "df1.head()"
   ]
  },
  {
   "cell_type": "code",
   "execution_count": 75,
   "metadata": {
    "scrolled": true
   },
   "outputs": [
    {
     "data": {
      "text/html": [
       "<div>\n",
       "<style scoped>\n",
       "    .dataframe tbody tr th:only-of-type {\n",
       "        vertical-align: middle;\n",
       "    }\n",
       "\n",
       "    .dataframe tbody tr th {\n",
       "        vertical-align: top;\n",
       "    }\n",
       "\n",
       "    .dataframe thead th {\n",
       "        text-align: right;\n",
       "    }\n",
       "</style>\n",
       "<table border=\"1\" class=\"dataframe\">\n",
       "  <thead>\n",
       "    <tr style=\"text-align: right;\">\n",
       "      <th></th>\n",
       "      <th>favorites_count</th>\n",
       "      <th>friends_count</th>\n",
       "      <th>listed_count</th>\n",
       "      <th>statuses_count</th>\n",
       "    </tr>\n",
       "  </thead>\n",
       "  <tbody>\n",
       "    <tr>\n",
       "      <th>favorites_count</th>\n",
       "      <td>1.000000</td>\n",
       "      <td>0.072189</td>\n",
       "      <td>-0.002136</td>\n",
       "      <td>0.548545</td>\n",
       "    </tr>\n",
       "    <tr>\n",
       "      <th>friends_count</th>\n",
       "      <td>0.072189</td>\n",
       "      <td>1.000000</td>\n",
       "      <td>0.050278</td>\n",
       "      <td>0.091163</td>\n",
       "    </tr>\n",
       "    <tr>\n",
       "      <th>listed_count</th>\n",
       "      <td>-0.002136</td>\n",
       "      <td>0.050278</td>\n",
       "      <td>1.000000</td>\n",
       "      <td>0.065093</td>\n",
       "    </tr>\n",
       "    <tr>\n",
       "      <th>statuses_count</th>\n",
       "      <td>0.548545</td>\n",
       "      <td>0.091163</td>\n",
       "      <td>0.065093</td>\n",
       "      <td>1.000000</td>\n",
       "    </tr>\n",
       "  </tbody>\n",
       "</table>\n",
       "</div>"
      ],
      "text/plain": [
       "                 favorites_count  friends_count  listed_count  statuses_count\n",
       "favorites_count         1.000000       0.072189     -0.002136        0.548545\n",
       "friends_count           0.072189       1.000000      0.050278        0.091163\n",
       "listed_count           -0.002136       0.050278      1.000000        0.065093\n",
       "statuses_count          0.548545       0.091163      0.065093        1.000000"
      ]
     },
     "execution_count": 75,
     "metadata": {},
     "output_type": "execute_result"
    }
   ],
   "source": [
    "user_df.corr()"
   ]
  },
  {
   "cell_type": "markdown",
   "metadata": {
    "id": "pnzmE0e5ZuoL"
   },
   "source": [
    "### Creating statuses dataframe from Twitter's Statuses table"
   ]
  },
  {
   "cell_type": "code",
   "execution_count": 11,
   "metadata": {
    "colab": {
     "base_uri": "https://localhost:8080/",
     "height": 444
    },
    "id": "smEyR--uX9BH",
    "outputId": "c82aede4-12a4-4478-e142-1087e0cee4d7",
    "scrolled": true
   },
   "outputs": [
    {
     "name": "stderr",
     "output_type": "stream",
     "text": [
      "C:\\Users\\HP\\anaconda3\\lib\\site-packages\\pandas\\io\\sql.py:761: UserWarning: pandas only support SQLAlchemy connectable(engine/connection) ordatabase string URI or sqlite3 DBAPI2 connectionother DBAPI2 objects are not tested, please consider using SQLAlchemy\n",
      "  warnings.warn(\n"
     ]
    },
    {
     "data": {
      "text/html": [
       "<div>\n",
       "<style scoped>\n",
       "    .dataframe tbody tr th:only-of-type {\n",
       "        vertical-align: middle;\n",
       "    }\n",
       "\n",
       "    .dataframe tbody tr th {\n",
       "        vertical-align: top;\n",
       "    }\n",
       "\n",
       "    .dataframe thead th {\n",
       "        text-align: right;\n",
       "    }\n",
       "</style>\n",
       "<table border=\"1\" class=\"dataframe\">\n",
       "  <thead>\n",
       "    <tr style=\"text-align: right;\">\n",
       "      <th></th>\n",
       "      <th>created_date</th>\n",
       "      <th>favorites_count</th>\n",
       "      <th>status_id</th>\n",
       "      <th>lang</th>\n",
       "      <th>retweet_count</th>\n",
       "      <th>source</th>\n",
       "      <th>text</th>\n",
       "      <th>truncated</th>\n",
       "      <th>user_id</th>\n",
       "    </tr>\n",
       "  </thead>\n",
       "  <tbody>\n",
       "    <tr>\n",
       "      <th>0</th>\n",
       "      <td>2021-01-07</td>\n",
       "      <td>1508</td>\n",
       "      <td>1347319187111247872</td>\n",
       "      <td>en</td>\n",
       "      <td>56</td>\n",
       "      <td>&lt;a href=\"http://twitter.com/download/android\" ...</td>\n",
       "      <td>I do enjoy playing hard to get 😉 https://t.co/...</td>\n",
       "      <td>None</td>\n",
       "      <td>1091459141397180416</td>\n",
       "    </tr>\n",
       "    <tr>\n",
       "      <th>1</th>\n",
       "      <td>2021-01-07</td>\n",
       "      <td>67356</td>\n",
       "      <td>1347275693474734080</td>\n",
       "      <td>en</td>\n",
       "      <td>2632</td>\n",
       "      <td>&lt;a href=\"http://twitter.com/download/android\" ...</td>\n",
       "      <td>.@elonmusk when's our first date? You've been ...</td>\n",
       "      <td>None</td>\n",
       "      <td>1091459141397180416</td>\n",
       "    </tr>\n",
       "    <tr>\n",
       "      <th>2</th>\n",
       "      <td>2020-10-29</td>\n",
       "      <td>711</td>\n",
       "      <td>1321606339257270274</td>\n",
       "      <td>en</td>\n",
       "      <td>16</td>\n",
       "      <td>&lt;a href=\"http://twitter.com/download/android\" ...</td>\n",
       "      <td>Please populate Mars with them 🙏 https://t.co/...</td>\n",
       "      <td>None</td>\n",
       "      <td>1091459141397180416</td>\n",
       "    </tr>\n",
       "    <tr>\n",
       "      <th>3</th>\n",
       "      <td>2020-09-15</td>\n",
       "      <td>0</td>\n",
       "      <td>1305990557840191488</td>\n",
       "      <td>und</td>\n",
       "      <td>17075</td>\n",
       "      <td>&lt;a href=\"http://twitter.com/download/android\" ...</td>\n",
       "      <td>RT @elonmusk: https://t.co/Vn0Rv0yQ5q</td>\n",
       "      <td>None</td>\n",
       "      <td>1091459141397180416</td>\n",
       "    </tr>\n",
       "    <tr>\n",
       "      <th>4</th>\n",
       "      <td>2020-09-15</td>\n",
       "      <td>2066</td>\n",
       "      <td>1305721904200736768</td>\n",
       "      <td>en</td>\n",
       "      <td>107</td>\n",
       "      <td>&lt;a href=\"http://twitter.com/download/android\" ...</td>\n",
       "      <td>Venus may have some life on her after all, so ...</td>\n",
       "      <td>None</td>\n",
       "      <td>1091459141397180416</td>\n",
       "    </tr>\n",
       "  </tbody>\n",
       "</table>\n",
       "</div>"
      ],
      "text/plain": [
       "  created_date  favorites_count            status_id lang  retweet_count  \\\n",
       "0   2021-01-07             1508  1347319187111247872   en             56   \n",
       "1   2021-01-07            67356  1347275693474734080   en           2632   \n",
       "2   2020-10-29              711  1321606339257270274   en             16   \n",
       "3   2020-09-15                0  1305990557840191488  und          17075   \n",
       "4   2020-09-15             2066  1305721904200736768   en            107   \n",
       "\n",
       "                                              source  \\\n",
       "0  <a href=\"http://twitter.com/download/android\" ...   \n",
       "1  <a href=\"http://twitter.com/download/android\" ...   \n",
       "2  <a href=\"http://twitter.com/download/android\" ...   \n",
       "3  <a href=\"http://twitter.com/download/android\" ...   \n",
       "4  <a href=\"http://twitter.com/download/android\" ...   \n",
       "\n",
       "                                                text truncated  \\\n",
       "0  I do enjoy playing hard to get 😉 https://t.co/...      None   \n",
       "1  .@elonmusk when's our first date? You've been ...      None   \n",
       "2  Please populate Mars with them 🙏 https://t.co/...      None   \n",
       "3              RT @elonmusk: https://t.co/Vn0Rv0yQ5q      None   \n",
       "4  Venus may have some life on her after all, so ...      None   \n",
       "\n",
       "               user_id  \n",
       "0  1091459141397180416  \n",
       "1  1091459141397180416  \n",
       "2  1091459141397180416  \n",
       "3  1091459141397180416  \n",
       "4  1091459141397180416  "
      ]
     },
     "execution_count": 11,
     "metadata": {},
     "output_type": "execute_result"
    }
   ],
   "source": [
    "stat_df = pd.read_sql(\"\"\"SELECT * FROM twitter.statuses \"\"\",\n",
    "                 connection)\n",
    "stat_df.head(5)"
   ]
  },
  {
   "cell_type": "code",
   "execution_count": 12,
   "metadata": {
    "id": "-6jQdr9aazWW"
   },
   "outputs": [
    {
     "name": "stdout",
     "output_type": "stream",
     "text": [
      "<class 'pandas.core.frame.DataFrame'>\n",
      "RangeIndex: 42831 entries, 0 to 42830\n",
      "Data columns (total 9 columns):\n",
      " #   Column           Non-Null Count  Dtype \n",
      "---  ------           --------------  ----- \n",
      " 0   created_date     42831 non-null  object\n",
      " 1   favorites_count  42831 non-null  int64 \n",
      " 2   status_id        42831 non-null  object\n",
      " 3   lang             42831 non-null  object\n",
      " 4   retweet_count    42831 non-null  int64 \n",
      " 5   source           42831 non-null  object\n",
      " 6   text             42831 non-null  object\n",
      " 7   truncated        10092 non-null  object\n",
      " 8   user_id          42831 non-null  object\n",
      "dtypes: int64(2), object(7)\n",
      "memory usage: 2.9+ MB\n"
     ]
    }
   ],
   "source": [
    "#Finding out the info about the user dataframe\n",
    "stat_df.info()"
   ]
  },
  {
   "cell_type": "code",
   "execution_count": 13,
   "metadata": {},
   "outputs": [],
   "source": [
    "#Dropping columns that are not needed for the analysis\n",
    "stat_df = stat_df.drop(['source','truncated'],axis=1)"
   ]
  },
  {
   "cell_type": "code",
   "execution_count": 14,
   "metadata": {},
   "outputs": [
    {
     "data": {
      "text/plain": [
       "created_date       0\n",
       "favorites_count    0\n",
       "status_id          0\n",
       "lang               0\n",
       "retweet_count      0\n",
       "text               0\n",
       "user_id            0\n",
       "dtype: int64"
      ]
     },
     "execution_count": 14,
     "metadata": {},
     "output_type": "execute_result"
    }
   ],
   "source": [
    "#Finding out the null values that exists in the dataframe\n",
    "stat_df.isnull().sum()"
   ]
  },
  {
   "cell_type": "code",
   "execution_count": 15,
   "metadata": {},
   "outputs": [
    {
     "data": {
      "text/plain": [
       "(42831, 7)"
      ]
     },
     "execution_count": 15,
     "metadata": {},
     "output_type": "execute_result"
    }
   ],
   "source": [
    "#Size of the dataframe\n",
    "stat_df.shape"
   ]
  },
  {
   "cell_type": "code",
   "execution_count": 16,
   "metadata": {},
   "outputs": [
    {
     "data": {
      "text/plain": [
       "2021-01-11    1022\n",
       "2021-01-08     893\n",
       "2021-01-09     801\n",
       "2021-01-10     792\n",
       "2021-01-07     781\n",
       "2021-01-06     674\n",
       "2021-01-05     526\n",
       "2021-01-04     514\n",
       "2020-12-31     435\n",
       "2020-12-30     417\n",
       "Name: created_date, dtype: int64"
      ]
     },
     "execution_count": 16,
     "metadata": {},
     "output_type": "execute_result"
    }
   ],
   "source": [
    "#Count occurrences (unique values) in created date column\n",
    "date = stat_df['created_date'].value_counts().sort_values(ascending=False)\n",
    "date.head(10)"
   ]
  },
  {
   "cell_type": "code",
   "execution_count": 17,
   "metadata": {},
   "outputs": [
    {
     "data": {
      "text/html": [
       "<div>\n",
       "<style scoped>\n",
       "    .dataframe tbody tr th:only-of-type {\n",
       "        vertical-align: middle;\n",
       "    }\n",
       "\n",
       "    .dataframe tbody tr th {\n",
       "        vertical-align: top;\n",
       "    }\n",
       "\n",
       "    .dataframe thead th {\n",
       "        text-align: right;\n",
       "    }\n",
       "</style>\n",
       "<table border=\"1\" class=\"dataframe\">\n",
       "  <thead>\n",
       "    <tr style=\"text-align: right;\">\n",
       "      <th></th>\n",
       "      <th>created_date</th>\n",
       "      <th>favorites_count</th>\n",
       "      <th>status_id</th>\n",
       "      <th>lang</th>\n",
       "      <th>retweet_count</th>\n",
       "      <th>text</th>\n",
       "      <th>user_id</th>\n",
       "    </tr>\n",
       "  </thead>\n",
       "  <tbody>\n",
       "    <tr>\n",
       "      <th>60</th>\n",
       "      <td>2021-01-11</td>\n",
       "      <td>694</td>\n",
       "      <td>1348699871361036293</td>\n",
       "      <td>und</td>\n",
       "      <td>58</td>\n",
       "      <td>https://t.co/Op1c309P75</td>\n",
       "      <td>2907774137</td>\n",
       "    </tr>\n",
       "    <tr>\n",
       "      <th>92</th>\n",
       "      <td>2021-01-11</td>\n",
       "      <td>357</td>\n",
       "      <td>1348701684898398211</td>\n",
       "      <td>und</td>\n",
       "      <td>40</td>\n",
       "      <td>https://t.co/tqqIoMJvuS</td>\n",
       "      <td>2907774137</td>\n",
       "    </tr>\n",
       "    <tr>\n",
       "      <th>93</th>\n",
       "      <td>2021-01-11</td>\n",
       "      <td>464</td>\n",
       "      <td>1348697145499643907</td>\n",
       "      <td>und</td>\n",
       "      <td>37</td>\n",
       "      <td>https://t.co/d5U6AUtdRY</td>\n",
       "      <td>2907774137</td>\n",
       "    </tr>\n",
       "    <tr>\n",
       "      <th>94</th>\n",
       "      <td>2021-01-11</td>\n",
       "      <td>746</td>\n",
       "      <td>1348693868489924615</td>\n",
       "      <td>und</td>\n",
       "      <td>85</td>\n",
       "      <td>https://t.co/f0Ms9jd2n3</td>\n",
       "      <td>2907774137</td>\n",
       "    </tr>\n",
       "    <tr>\n",
       "      <th>95</th>\n",
       "      <td>2021-01-11</td>\n",
       "      <td>373</td>\n",
       "      <td>1348692151660474369</td>\n",
       "      <td>und</td>\n",
       "      <td>25</td>\n",
       "      <td>https://t.co/swxXAkYbyd</td>\n",
       "      <td>2907774137</td>\n",
       "    </tr>\n",
       "  </tbody>\n",
       "</table>\n",
       "</div>"
      ],
      "text/plain": [
       "   created_date  favorites_count            status_id lang  retweet_count  \\\n",
       "60   2021-01-11              694  1348699871361036293  und             58   \n",
       "92   2021-01-11              357  1348701684898398211  und             40   \n",
       "93   2021-01-11              464  1348697145499643907  und             37   \n",
       "94   2021-01-11              746  1348693868489924615  und             85   \n",
       "95   2021-01-11              373  1348692151660474369  und             25   \n",
       "\n",
       "                       text     user_id  \n",
       "60  https://t.co/Op1c309P75  2907774137  \n",
       "92  https://t.co/tqqIoMJvuS  2907774137  \n",
       "93  https://t.co/d5U6AUtdRY  2907774137  \n",
       "94  https://t.co/f0Ms9jd2n3  2907774137  \n",
       "95  https://t.co/swxXAkYbyd  2907774137  "
      ]
     },
     "execution_count": 17,
     "metadata": {},
     "output_type": "execute_result"
    }
   ],
   "source": [
    "max_tweet = pd.to_datetime(\"2021-01-11\").date()\n",
    "date2= stat_df[stat_df['created_date']== max_tweet]\n",
    "date2.head()"
   ]
  },
  {
   "cell_type": "markdown",
   "metadata": {
    "id": "1I_t7k0IZyU_"
   },
   "source": [
    "### Creating retweets dataframe from Twitter's Retweets table"
   ]
  },
  {
   "cell_type": "code",
   "execution_count": 18,
   "metadata": {
    "colab": {
     "base_uri": "https://localhost:8080/",
     "height": 530
    },
    "id": "sy3lW-cgX8-c",
    "outputId": "be228e90-cdcf-41b2-a984-a2e946bef3c4",
    "scrolled": true
   },
   "outputs": [
    {
     "name": "stderr",
     "output_type": "stream",
     "text": [
      "C:\\Users\\HP\\anaconda3\\lib\\site-packages\\pandas\\io\\sql.py:761: UserWarning: pandas only support SQLAlchemy connectable(engine/connection) ordatabase string URI or sqlite3 DBAPI2 connectionother DBAPI2 objects are not tested, please consider using SQLAlchemy\n",
      "  warnings.warn(\n"
     ]
    },
    {
     "data": {
      "text/html": [
       "<div>\n",
       "<style scoped>\n",
       "    .dataframe tbody tr th:only-of-type {\n",
       "        vertical-align: middle;\n",
       "    }\n",
       "\n",
       "    .dataframe tbody tr th {\n",
       "        vertical-align: top;\n",
       "    }\n",
       "\n",
       "    .dataframe thead th {\n",
       "        text-align: right;\n",
       "    }\n",
       "</style>\n",
       "<table border=\"1\" class=\"dataframe\">\n",
       "  <thead>\n",
       "    <tr style=\"text-align: right;\">\n",
       "      <th></th>\n",
       "      <th>created_date</th>\n",
       "      <th>status_id</th>\n",
       "      <th>retweeted_status</th>\n",
       "      <th>lang</th>\n",
       "      <th>retweet_count</th>\n",
       "      <th>source</th>\n",
       "      <th>text</th>\n",
       "      <th>user_id</th>\n",
       "    </tr>\n",
       "  </thead>\n",
       "  <tbody>\n",
       "    <tr>\n",
       "      <th>0</th>\n",
       "      <td>2021-01-10</td>\n",
       "      <td>1348259127722725378</td>\n",
       "      <td>1347319187111247872</td>\n",
       "      <td>en</td>\n",
       "      <td>56</td>\n",
       "      <td>&lt;a href=\"http://twitter.com/download/iphone\" r...</td>\n",
       "      <td>RT @4thFromOurStar: I do enjoy playing hard to...</td>\n",
       "      <td>2275541873</td>\n",
       "    </tr>\n",
       "    <tr>\n",
       "      <th>1</th>\n",
       "      <td>2021-01-10</td>\n",
       "      <td>1348242005122576384</td>\n",
       "      <td>1347319187111247872</td>\n",
       "      <td>en</td>\n",
       "      <td>56</td>\n",
       "      <td>&lt;a href=\"http://twitter.com/download/iphone\" r...</td>\n",
       "      <td>RT @4thFromOurStar: I do enjoy playing hard to...</td>\n",
       "      <td>3005439285</td>\n",
       "    </tr>\n",
       "    <tr>\n",
       "      <th>2</th>\n",
       "      <td>2021-01-09</td>\n",
       "      <td>1348025849740734470</td>\n",
       "      <td>1347319187111247872</td>\n",
       "      <td>en</td>\n",
       "      <td>56</td>\n",
       "      <td>&lt;a href=\"http://twitter.com/download/iphone\" r...</td>\n",
       "      <td>RT @4thFromOurStar: I do enjoy playing hard to...</td>\n",
       "      <td>1094029777533587456</td>\n",
       "    </tr>\n",
       "    <tr>\n",
       "      <th>3</th>\n",
       "      <td>2021-01-09</td>\n",
       "      <td>1347861562137055234</td>\n",
       "      <td>1347319187111247872</td>\n",
       "      <td>en</td>\n",
       "      <td>56</td>\n",
       "      <td>&lt;a href=\"http://twitter.com/download/android\" ...</td>\n",
       "      <td>RT @4thFromOurStar: I do enjoy playing hard to...</td>\n",
       "      <td>3064795510</td>\n",
       "    </tr>\n",
       "    <tr>\n",
       "      <th>4</th>\n",
       "      <td>2021-01-09</td>\n",
       "      <td>1347805526705410050</td>\n",
       "      <td>1347319187111247872</td>\n",
       "      <td>en</td>\n",
       "      <td>56</td>\n",
       "      <td>&lt;a href=\"http://twitter.com/download/android\" ...</td>\n",
       "      <td>RT @4thFromOurStar: I do enjoy playing hard to...</td>\n",
       "      <td>114182176</td>\n",
       "    </tr>\n",
       "  </tbody>\n",
       "</table>\n",
       "</div>"
      ],
      "text/plain": [
       "  created_date            status_id     retweeted_status lang  retweet_count  \\\n",
       "0   2021-01-10  1348259127722725378  1347319187111247872   en             56   \n",
       "1   2021-01-10  1348242005122576384  1347319187111247872   en             56   \n",
       "2   2021-01-09  1348025849740734470  1347319187111247872   en             56   \n",
       "3   2021-01-09  1347861562137055234  1347319187111247872   en             56   \n",
       "4   2021-01-09  1347805526705410050  1347319187111247872   en             56   \n",
       "\n",
       "                                              source  \\\n",
       "0  <a href=\"http://twitter.com/download/iphone\" r...   \n",
       "1  <a href=\"http://twitter.com/download/iphone\" r...   \n",
       "2  <a href=\"http://twitter.com/download/iphone\" r...   \n",
       "3  <a href=\"http://twitter.com/download/android\" ...   \n",
       "4  <a href=\"http://twitter.com/download/android\" ...   \n",
       "\n",
       "                                                text              user_id  \n",
       "0  RT @4thFromOurStar: I do enjoy playing hard to...           2275541873  \n",
       "1  RT @4thFromOurStar: I do enjoy playing hard to...           3005439285  \n",
       "2  RT @4thFromOurStar: I do enjoy playing hard to...  1094029777533587456  \n",
       "3  RT @4thFromOurStar: I do enjoy playing hard to...           3064795510  \n",
       "4  RT @4thFromOurStar: I do enjoy playing hard to...            114182176  "
      ]
     },
     "execution_count": 18,
     "metadata": {},
     "output_type": "execute_result"
    }
   ],
   "source": [
    "re_df = pd.read_sql(\"\"\"SELECT * FROM twitter.retweets \"\"\",\n",
    "                 connection)\n",
    "re_df.head(5)"
   ]
  },
  {
   "cell_type": "code",
   "execution_count": 19,
   "metadata": {
    "id": "olSVSYeBX863",
    "scrolled": true
   },
   "outputs": [
    {
     "name": "stdout",
     "output_type": "stream",
     "text": [
      "<class 'pandas.core.frame.DataFrame'>\n",
      "RangeIndex: 33960 entries, 0 to 33959\n",
      "Data columns (total 8 columns):\n",
      " #   Column            Non-Null Count  Dtype \n",
      "---  ------            --------------  ----- \n",
      " 0   created_date      33960 non-null  object\n",
      " 1   status_id         33960 non-null  object\n",
      " 2   retweeted_status  33960 non-null  object\n",
      " 3   lang              33960 non-null  object\n",
      " 4   retweet_count     33960 non-null  int64 \n",
      " 5   source            33960 non-null  object\n",
      " 6   text              33960 non-null  object\n",
      " 7   user_id           33960 non-null  object\n",
      "dtypes: int64(1), object(7)\n",
      "memory usage: 2.1+ MB\n"
     ]
    }
   ],
   "source": [
    "#Finding out the info about the user dataframe\n",
    "re_df.info()"
   ]
  },
  {
   "cell_type": "code",
   "execution_count": 20,
   "metadata": {
    "id": "xZhHxJJCX82p"
   },
   "outputs": [],
   "source": [
    "#Dropping columns that are not needed for the analysis\n",
    "re_df = re_df.drop(['source'],axis=1)"
   ]
  },
  {
   "cell_type": "code",
   "execution_count": 21,
   "metadata": {},
   "outputs": [
    {
     "data": {
      "text/plain": [
       "created_date        0\n",
       "status_id           0\n",
       "retweeted_status    0\n",
       "lang                0\n",
       "retweet_count       0\n",
       "text                0\n",
       "user_id             0\n",
       "dtype: int64"
      ]
     },
     "execution_count": 21,
     "metadata": {},
     "output_type": "execute_result"
    }
   ],
   "source": [
    "#Finding out the null values that exists in the dataframe\n",
    "re_df.isnull().sum()"
   ]
  },
  {
   "cell_type": "code",
   "execution_count": 22,
   "metadata": {},
   "outputs": [
    {
     "data": {
      "text/plain": [
       "(33960, 7)"
      ]
     },
     "execution_count": 22,
     "metadata": {},
     "output_type": "execute_result"
    }
   ],
   "source": [
    "#Size of the dataframe\n",
    "re_df.shape"
   ]
  },
  {
   "cell_type": "markdown",
   "metadata": {},
   "source": [
    "## Creating dataframe by combing users and statuses table"
   ]
  },
  {
   "cell_type": "code",
   "execution_count": 23,
   "metadata": {},
   "outputs": [
    {
     "name": "stderr",
     "output_type": "stream",
     "text": [
      "C:\\Users\\HP\\anaconda3\\lib\\site-packages\\pandas\\io\\sql.py:761: UserWarning: pandas only support SQLAlchemy connectable(engine/connection) ordatabase string URI or sqlite3 DBAPI2 connectionother DBAPI2 objects are not tested, please consider using SQLAlchemy\n",
      "  warnings.warn(\n"
     ]
    },
    {
     "data": {
      "text/html": [
       "<div>\n",
       "<style scoped>\n",
       "    .dataframe tbody tr th:only-of-type {\n",
       "        vertical-align: middle;\n",
       "    }\n",
       "\n",
       "    .dataframe tbody tr th {\n",
       "        vertical-align: top;\n",
       "    }\n",
       "\n",
       "    .dataframe thead th {\n",
       "        text-align: right;\n",
       "    }\n",
       "</style>\n",
       "<table border=\"1\" class=\"dataframe\">\n",
       "  <thead>\n",
       "    <tr style=\"text-align: right;\">\n",
       "      <th></th>\n",
       "      <th>user_id</th>\n",
       "      <th>screen_name</th>\n",
       "      <th>location</th>\n",
       "      <th>created_date</th>\n",
       "      <th>lang</th>\n",
       "      <th>text</th>\n",
       "      <th>favorites_count</th>\n",
       "      <th>friends_count</th>\n",
       "      <th>statuses_count</th>\n",
       "    </tr>\n",
       "  </thead>\n",
       "  <tbody>\n",
       "    <tr>\n",
       "      <th>0</th>\n",
       "      <td>1091459141397180416</td>\n",
       "      <td>4thFromOurStar</td>\n",
       "      <td>The Milkyway Galaxy</td>\n",
       "      <td>2021-01-07</td>\n",
       "      <td>en</td>\n",
       "      <td>I do enjoy playing hard to get 😉 https://t.co/...</td>\n",
       "      <td>4533.0</td>\n",
       "      <td>72.0</td>\n",
       "      <td>253</td>\n",
       "    </tr>\n",
       "    <tr>\n",
       "      <th>1</th>\n",
       "      <td>1091459141397180416</td>\n",
       "      <td>4thFromOurStar</td>\n",
       "      <td>The Milkyway Galaxy</td>\n",
       "      <td>2021-01-07</td>\n",
       "      <td>en</td>\n",
       "      <td>.@elonmusk when's our first date? You've been ...</td>\n",
       "      <td>4533.0</td>\n",
       "      <td>72.0</td>\n",
       "      <td>253</td>\n",
       "    </tr>\n",
       "    <tr>\n",
       "      <th>2</th>\n",
       "      <td>1091459141397180416</td>\n",
       "      <td>4thFromOurStar</td>\n",
       "      <td>The Milkyway Galaxy</td>\n",
       "      <td>2020-10-29</td>\n",
       "      <td>en</td>\n",
       "      <td>Please populate Mars with them 🙏 https://t.co/...</td>\n",
       "      <td>4533.0</td>\n",
       "      <td>72.0</td>\n",
       "      <td>253</td>\n",
       "    </tr>\n",
       "    <tr>\n",
       "      <th>3</th>\n",
       "      <td>1091459141397180416</td>\n",
       "      <td>4thFromOurStar</td>\n",
       "      <td>The Milkyway Galaxy</td>\n",
       "      <td>2020-09-15</td>\n",
       "      <td>und</td>\n",
       "      <td>RT @elonmusk: https://t.co/Vn0Rv0yQ5q</td>\n",
       "      <td>4533.0</td>\n",
       "      <td>72.0</td>\n",
       "      <td>253</td>\n",
       "    </tr>\n",
       "    <tr>\n",
       "      <th>4</th>\n",
       "      <td>1091459141397180416</td>\n",
       "      <td>4thFromOurStar</td>\n",
       "      <td>The Milkyway Galaxy</td>\n",
       "      <td>2020-09-15</td>\n",
       "      <td>en</td>\n",
       "      <td>Venus may have some life on her after all, so ...</td>\n",
       "      <td>4533.0</td>\n",
       "      <td>72.0</td>\n",
       "      <td>253</td>\n",
       "    </tr>\n",
       "    <tr>\n",
       "      <th>...</th>\n",
       "      <td>...</td>\n",
       "      <td>...</td>\n",
       "      <td>...</td>\n",
       "      <td>...</td>\n",
       "      <td>...</td>\n",
       "      <td>...</td>\n",
       "      <td>...</td>\n",
       "      <td>...</td>\n",
       "      <td>...</td>\n",
       "    </tr>\n",
       "    <tr>\n",
       "      <th>42826</th>\n",
       "      <td>384986958</td>\n",
       "      <td>rincon_p</td>\n",
       "      <td>None</td>\n",
       "      <td>2020-02-18</td>\n",
       "      <td>en</td>\n",
       "      <td>RT @LeMoustier: Oh my GOSH\\n1st new #Neanderth...</td>\n",
       "      <td>6027.0</td>\n",
       "      <td>7623.0</td>\n",
       "      <td>5340</td>\n",
       "    </tr>\n",
       "    <tr>\n",
       "      <th>42827</th>\n",
       "      <td>384986958</td>\n",
       "      <td>rincon_p</td>\n",
       "      <td>None</td>\n",
       "      <td>2020-02-18</td>\n",
       "      <td>en</td>\n",
       "      <td>RT @elizpingree: @riding_red @rincon_p “The ne...</td>\n",
       "      <td>6027.0</td>\n",
       "      <td>7623.0</td>\n",
       "      <td>5340</td>\n",
       "    </tr>\n",
       "    <tr>\n",
       "      <th>42828</th>\n",
       "      <td>384986958</td>\n",
       "      <td>rincon_p</td>\n",
       "      <td>None</td>\n",
       "      <td>2020-02-18</td>\n",
       "      <td>en</td>\n",
       "      <td>Skeletal remains unearthed in the famous #Shan...</td>\n",
       "      <td>6027.0</td>\n",
       "      <td>7623.0</td>\n",
       "      <td>5340</td>\n",
       "    </tr>\n",
       "    <tr>\n",
       "      <th>42829</th>\n",
       "      <td>384986958</td>\n",
       "      <td>rincon_p</td>\n",
       "      <td>None</td>\n",
       "      <td>2020-02-17</td>\n",
       "      <td>en</td>\n",
       "      <td>After the rain #london https://t.co/rgJEDrcM8A</td>\n",
       "      <td>6027.0</td>\n",
       "      <td>7623.0</td>\n",
       "      <td>5340</td>\n",
       "    </tr>\n",
       "    <tr>\n",
       "      <th>42830</th>\n",
       "      <td>384986958</td>\n",
       "      <td>rincon_p</td>\n",
       "      <td>None</td>\n",
       "      <td>2020-02-14</td>\n",
       "      <td>en</td>\n",
       "      <td>RT @skyatnightmag: Two views of red supergiant...</td>\n",
       "      <td>6027.0</td>\n",
       "      <td>7623.0</td>\n",
       "      <td>5340</td>\n",
       "    </tr>\n",
       "  </tbody>\n",
       "</table>\n",
       "<p>42831 rows × 9 columns</p>\n",
       "</div>"
      ],
      "text/plain": [
       "                   user_id     screen_name             location created_date  \\\n",
       "0      1091459141397180416  4thFromOurStar  The Milkyway Galaxy   2021-01-07   \n",
       "1      1091459141397180416  4thFromOurStar  The Milkyway Galaxy   2021-01-07   \n",
       "2      1091459141397180416  4thFromOurStar  The Milkyway Galaxy   2020-10-29   \n",
       "3      1091459141397180416  4thFromOurStar  The Milkyway Galaxy   2020-09-15   \n",
       "4      1091459141397180416  4thFromOurStar  The Milkyway Galaxy   2020-09-15   \n",
       "...                    ...             ...                  ...          ...   \n",
       "42826            384986958        rincon_p                 None   2020-02-18   \n",
       "42827            384986958        rincon_p                 None   2020-02-18   \n",
       "42828            384986958        rincon_p                 None   2020-02-18   \n",
       "42829            384986958        rincon_p                 None   2020-02-17   \n",
       "42830            384986958        rincon_p                 None   2020-02-14   \n",
       "\n",
       "      lang                                               text  \\\n",
       "0       en  I do enjoy playing hard to get 😉 https://t.co/...   \n",
       "1       en  .@elonmusk when's our first date? You've been ...   \n",
       "2       en  Please populate Mars with them 🙏 https://t.co/...   \n",
       "3      und              RT @elonmusk: https://t.co/Vn0Rv0yQ5q   \n",
       "4       en  Venus may have some life on her after all, so ...   \n",
       "...    ...                                                ...   \n",
       "42826   en  RT @LeMoustier: Oh my GOSH\\n1st new #Neanderth...   \n",
       "42827   en  RT @elizpingree: @riding_red @rincon_p “The ne...   \n",
       "42828   en  Skeletal remains unearthed in the famous #Shan...   \n",
       "42829   en     After the rain #london https://t.co/rgJEDrcM8A   \n",
       "42830   en  RT @skyatnightmag: Two views of red supergiant...   \n",
       "\n",
       "       favorites_count  friends_count  statuses_count  \n",
       "0               4533.0           72.0             253  \n",
       "1               4533.0           72.0             253  \n",
       "2               4533.0           72.0             253  \n",
       "3               4533.0           72.0             253  \n",
       "4               4533.0           72.0             253  \n",
       "...                ...            ...             ...  \n",
       "42826           6027.0         7623.0            5340  \n",
       "42827           6027.0         7623.0            5340  \n",
       "42828           6027.0         7623.0            5340  \n",
       "42829           6027.0         7623.0            5340  \n",
       "42830           6027.0         7623.0            5340  \n",
       "\n",
       "[42831 rows x 9 columns]"
      ]
     },
     "execution_count": 23,
     "metadata": {},
     "output_type": "execute_result"
    }
   ],
   "source": [
    "df = pd.read_sql(\"\"\"SELECT users.user_id, users.screen_name, users.location, statuses.created_date, statuses.lang, statuses.text, users.favorites_count, users.friends_count, users.statuses_count \n",
    "                     FROM twitter.users JOIN twitter.statuses\n",
    "                        On users.user_id = statuses.user_id\"\"\",\n",
    "                 connection)\n",
    "df"
   ]
  },
  {
   "cell_type": "code",
   "execution_count": 25,
   "metadata": {},
   "outputs": [
    {
     "data": {
      "text/html": [
       "<div>\n",
       "<style scoped>\n",
       "    .dataframe tbody tr th:only-of-type {\n",
       "        vertical-align: middle;\n",
       "    }\n",
       "\n",
       "    .dataframe tbody tr th {\n",
       "        vertical-align: top;\n",
       "    }\n",
       "\n",
       "    .dataframe thead th {\n",
       "        text-align: right;\n",
       "    }\n",
       "</style>\n",
       "<table border=\"1\" class=\"dataframe\">\n",
       "  <thead>\n",
       "    <tr style=\"text-align: right;\">\n",
       "      <th></th>\n",
       "      <th>user_id</th>\n",
       "      <th>screen_name</th>\n",
       "      <th>location</th>\n",
       "      <th>created_date</th>\n",
       "      <th>lang</th>\n",
       "      <th>text</th>\n",
       "      <th>favorites_count</th>\n",
       "      <th>friends_count</th>\n",
       "      <th>statuses_count</th>\n",
       "    </tr>\n",
       "  </thead>\n",
       "  <tbody>\n",
       "    <tr>\n",
       "      <th>0</th>\n",
       "      <td>1091459141397180416</td>\n",
       "      <td>4thFromOurStar</td>\n",
       "      <td>The Milkyway Galaxy</td>\n",
       "      <td>2021-01-07</td>\n",
       "      <td>en</td>\n",
       "      <td>i do enjoy playing hard to get 😉 https://t.co/...</td>\n",
       "      <td>4533.0</td>\n",
       "      <td>72.0</td>\n",
       "      <td>253</td>\n",
       "    </tr>\n",
       "    <tr>\n",
       "      <th>1</th>\n",
       "      <td>1091459141397180416</td>\n",
       "      <td>4thFromOurStar</td>\n",
       "      <td>The Milkyway Galaxy</td>\n",
       "      <td>2021-01-07</td>\n",
       "      <td>en</td>\n",
       "      <td>.@elonmusk when's our first date? you've been ...</td>\n",
       "      <td>4533.0</td>\n",
       "      <td>72.0</td>\n",
       "      <td>253</td>\n",
       "    </tr>\n",
       "    <tr>\n",
       "      <th>2</th>\n",
       "      <td>1091459141397180416</td>\n",
       "      <td>4thFromOurStar</td>\n",
       "      <td>The Milkyway Galaxy</td>\n",
       "      <td>2020-10-29</td>\n",
       "      <td>en</td>\n",
       "      <td>please populate mars with them 🙏 https://t.co/...</td>\n",
       "      <td>4533.0</td>\n",
       "      <td>72.0</td>\n",
       "      <td>253</td>\n",
       "    </tr>\n",
       "    <tr>\n",
       "      <th>3</th>\n",
       "      <td>1091459141397180416</td>\n",
       "      <td>4thFromOurStar</td>\n",
       "      <td>The Milkyway Galaxy</td>\n",
       "      <td>2020-09-15</td>\n",
       "      <td>und</td>\n",
       "      <td>rt @elonmusk: https://t.co/vn0rv0yq5q</td>\n",
       "      <td>4533.0</td>\n",
       "      <td>72.0</td>\n",
       "      <td>253</td>\n",
       "    </tr>\n",
       "    <tr>\n",
       "      <th>4</th>\n",
       "      <td>1091459141397180416</td>\n",
       "      <td>4thFromOurStar</td>\n",
       "      <td>The Milkyway Galaxy</td>\n",
       "      <td>2020-09-15</td>\n",
       "      <td>en</td>\n",
       "      <td>venus may have some life on her after all, so ...</td>\n",
       "      <td>4533.0</td>\n",
       "      <td>72.0</td>\n",
       "      <td>253</td>\n",
       "    </tr>\n",
       "  </tbody>\n",
       "</table>\n",
       "</div>"
      ],
      "text/plain": [
       "               user_id     screen_name             location created_date lang  \\\n",
       "0  1091459141397180416  4thFromOurStar  The Milkyway Galaxy   2021-01-07   en   \n",
       "1  1091459141397180416  4thFromOurStar  The Milkyway Galaxy   2021-01-07   en   \n",
       "2  1091459141397180416  4thFromOurStar  The Milkyway Galaxy   2020-10-29   en   \n",
       "3  1091459141397180416  4thFromOurStar  The Milkyway Galaxy   2020-09-15  und   \n",
       "4  1091459141397180416  4thFromOurStar  The Milkyway Galaxy   2020-09-15   en   \n",
       "\n",
       "                                                text  favorites_count  \\\n",
       "0  i do enjoy playing hard to get 😉 https://t.co/...           4533.0   \n",
       "1  .@elonmusk when's our first date? you've been ...           4533.0   \n",
       "2  please populate mars with them 🙏 https://t.co/...           4533.0   \n",
       "3              rt @elonmusk: https://t.co/vn0rv0yq5q           4533.0   \n",
       "4  venus may have some life on her after all, so ...           4533.0   \n",
       "\n",
       "   friends_count  statuses_count  \n",
       "0           72.0             253  \n",
       "1           72.0             253  \n",
       "2           72.0             253  \n",
       "3           72.0             253  \n",
       "4           72.0             253  "
      ]
     },
     "execution_count": 25,
     "metadata": {},
     "output_type": "execute_result"
    }
   ],
   "source": [
    "df['text'] = df['text'].astype(str).str.lower()\n",
    "df.head()"
   ]
  },
  {
   "cell_type": "code",
   "execution_count": 26,
   "metadata": {},
   "outputs": [
    {
     "data": {
      "text/html": [
       "<div>\n",
       "<style scoped>\n",
       "    .dataframe tbody tr th:only-of-type {\n",
       "        vertical-align: middle;\n",
       "    }\n",
       "\n",
       "    .dataframe tbody tr th {\n",
       "        vertical-align: top;\n",
       "    }\n",
       "\n",
       "    .dataframe thead th {\n",
       "        text-align: right;\n",
       "    }\n",
       "</style>\n",
       "<table border=\"1\" class=\"dataframe\">\n",
       "  <thead>\n",
       "    <tr style=\"text-align: right;\">\n",
       "      <th></th>\n",
       "      <th>user_id</th>\n",
       "      <th>screen_name</th>\n",
       "      <th>location</th>\n",
       "      <th>created_date</th>\n",
       "      <th>lang</th>\n",
       "      <th>text</th>\n",
       "      <th>favorites_count</th>\n",
       "      <th>friends_count</th>\n",
       "      <th>statuses_count</th>\n",
       "      <th>text_trans</th>\n",
       "    </tr>\n",
       "  </thead>\n",
       "  <tbody>\n",
       "    <tr>\n",
       "      <th>0</th>\n",
       "      <td>1091459141397180416</td>\n",
       "      <td>4thFromOurStar</td>\n",
       "      <td>The Milkyway Galaxy</td>\n",
       "      <td>2021-01-07</td>\n",
       "      <td>en</td>\n",
       "      <td>i do enjoy playing hard to get 😉 https://t.co/...</td>\n",
       "      <td>4533.0</td>\n",
       "      <td>72.0</td>\n",
       "      <td>253</td>\n",
       "      <td>[i, do, enjoy, playing, hard, to, get, https, ...</td>\n",
       "    </tr>\n",
       "    <tr>\n",
       "      <th>1</th>\n",
       "      <td>1091459141397180416</td>\n",
       "      <td>4thFromOurStar</td>\n",
       "      <td>The Milkyway Galaxy</td>\n",
       "      <td>2021-01-07</td>\n",
       "      <td>en</td>\n",
       "      <td>.@elonmusk when's our first date? you've been ...</td>\n",
       "      <td>4533.0</td>\n",
       "      <td>72.0</td>\n",
       "      <td>253</td>\n",
       "      <td>[elonmusk, when, s, our, first, date, you, ve,...</td>\n",
       "    </tr>\n",
       "    <tr>\n",
       "      <th>2</th>\n",
       "      <td>1091459141397180416</td>\n",
       "      <td>4thFromOurStar</td>\n",
       "      <td>The Milkyway Galaxy</td>\n",
       "      <td>2020-10-29</td>\n",
       "      <td>en</td>\n",
       "      <td>please populate mars with them 🙏 https://t.co/...</td>\n",
       "      <td>4533.0</td>\n",
       "      <td>72.0</td>\n",
       "      <td>253</td>\n",
       "      <td>[please, populate, mars, with, them, https, t,...</td>\n",
       "    </tr>\n",
       "    <tr>\n",
       "      <th>3</th>\n",
       "      <td>1091459141397180416</td>\n",
       "      <td>4thFromOurStar</td>\n",
       "      <td>The Milkyway Galaxy</td>\n",
       "      <td>2020-09-15</td>\n",
       "      <td>und</td>\n",
       "      <td>rt @elonmusk: https://t.co/vn0rv0yq5q</td>\n",
       "      <td>4533.0</td>\n",
       "      <td>72.0</td>\n",
       "      <td>253</td>\n",
       "      <td>[rt, elonmusk, https, t, co, vn0rv0yq5q]</td>\n",
       "    </tr>\n",
       "    <tr>\n",
       "      <th>4</th>\n",
       "      <td>1091459141397180416</td>\n",
       "      <td>4thFromOurStar</td>\n",
       "      <td>The Milkyway Galaxy</td>\n",
       "      <td>2020-09-15</td>\n",
       "      <td>en</td>\n",
       "      <td>venus may have some life on her after all, so ...</td>\n",
       "      <td>4533.0</td>\n",
       "      <td>72.0</td>\n",
       "      <td>253</td>\n",
       "      <td>[venus, may, have, some, life, on, her, after,...</td>\n",
       "    </tr>\n",
       "  </tbody>\n",
       "</table>\n",
       "</div>"
      ],
      "text/plain": [
       "               user_id     screen_name             location created_date lang  \\\n",
       "0  1091459141397180416  4thFromOurStar  The Milkyway Galaxy   2021-01-07   en   \n",
       "1  1091459141397180416  4thFromOurStar  The Milkyway Galaxy   2021-01-07   en   \n",
       "2  1091459141397180416  4thFromOurStar  The Milkyway Galaxy   2020-10-29   en   \n",
       "3  1091459141397180416  4thFromOurStar  The Milkyway Galaxy   2020-09-15  und   \n",
       "4  1091459141397180416  4thFromOurStar  The Milkyway Galaxy   2020-09-15   en   \n",
       "\n",
       "                                                text  favorites_count  \\\n",
       "0  i do enjoy playing hard to get 😉 https://t.co/...           4533.0   \n",
       "1  .@elonmusk when's our first date? you've been ...           4533.0   \n",
       "2  please populate mars with them 🙏 https://t.co/...           4533.0   \n",
       "3              rt @elonmusk: https://t.co/vn0rv0yq5q           4533.0   \n",
       "4  venus may have some life on her after all, so ...           4533.0   \n",
       "\n",
       "   friends_count  statuses_count  \\\n",
       "0           72.0             253   \n",
       "1           72.0             253   \n",
       "2           72.0             253   \n",
       "3           72.0             253   \n",
       "4           72.0             253   \n",
       "\n",
       "                                          text_trans  \n",
       "0  [i, do, enjoy, playing, hard, to, get, https, ...  \n",
       "1  [elonmusk, when, s, our, first, date, you, ve,...  \n",
       "2  [please, populate, mars, with, them, https, t,...  \n",
       "3           [rt, elonmusk, https, t, co, vn0rv0yq5q]  \n",
       "4  [venus, may, have, some, life, on, her, after,...  "
      ]
     },
     "execution_count": 26,
     "metadata": {},
     "output_type": "execute_result"
    }
   ],
   "source": [
    "import nltk \n",
    "from nltk import RegexpTokenizer\n",
    "\n",
    "regexp = RegexpTokenizer('\\w+')\n",
    "\n",
    "df['text_trans'] = df['text'].apply(regexp.tokenize)\n",
    "df.head()"
   ]
  },
  {
   "cell_type": "code",
   "execution_count": 27,
   "metadata": {},
   "outputs": [
    {
     "name": "stderr",
     "output_type": "stream",
     "text": [
      "[nltk_data] Downloading package stopwords to\n",
      "[nltk_data]     C:\\Users\\HP\\AppData\\Roaming\\nltk_data...\n",
      "[nltk_data]   Package stopwords is already up-to-date!\n"
     ]
    },
    {
     "data": {
      "text/plain": [
       "True"
      ]
     },
     "execution_count": 27,
     "metadata": {},
     "output_type": "execute_result"
    }
   ],
   "source": [
    " #Dealing with stopwords\n",
    "nltk.download('stopwords')"
   ]
  },
  {
   "cell_type": "code",
   "execution_count": 28,
   "metadata": {},
   "outputs": [],
   "source": [
    "from nltk.corpus import stopwords\n",
    "\n",
    "stopwords = nltk.corpus.stopwords.words(\"english\")\n",
    "\n",
    "#extending list with custom stopwords\n",
    "my_stopwords = ['https']\n",
    "stopwords.extend(my_stopwords)"
   ]
  },
  {
   "cell_type": "code",
   "execution_count": 29,
   "metadata": {},
   "outputs": [
    {
     "data": {
      "text/html": [
       "<div>\n",
       "<style scoped>\n",
       "    .dataframe tbody tr th:only-of-type {\n",
       "        vertical-align: middle;\n",
       "    }\n",
       "\n",
       "    .dataframe tbody tr th {\n",
       "        vertical-align: top;\n",
       "    }\n",
       "\n",
       "    .dataframe thead th {\n",
       "        text-align: right;\n",
       "    }\n",
       "</style>\n",
       "<table border=\"1\" class=\"dataframe\">\n",
       "  <thead>\n",
       "    <tr style=\"text-align: right;\">\n",
       "      <th></th>\n",
       "      <th>user_id</th>\n",
       "      <th>screen_name</th>\n",
       "      <th>location</th>\n",
       "      <th>created_date</th>\n",
       "      <th>lang</th>\n",
       "      <th>text</th>\n",
       "      <th>favorites_count</th>\n",
       "      <th>friends_count</th>\n",
       "      <th>statuses_count</th>\n",
       "      <th>text_trans</th>\n",
       "    </tr>\n",
       "  </thead>\n",
       "  <tbody>\n",
       "    <tr>\n",
       "      <th>0</th>\n",
       "      <td>1091459141397180416</td>\n",
       "      <td>4thFromOurStar</td>\n",
       "      <td>The Milkyway Galaxy</td>\n",
       "      <td>2021-01-07</td>\n",
       "      <td>en</td>\n",
       "      <td>i do enjoy playing hard to get 😉 https://t.co/...</td>\n",
       "      <td>4533.0</td>\n",
       "      <td>72.0</td>\n",
       "      <td>253</td>\n",
       "      <td>[enjoy, playing, hard, get, co, rpundysyzs]</td>\n",
       "    </tr>\n",
       "    <tr>\n",
       "      <th>1</th>\n",
       "      <td>1091459141397180416</td>\n",
       "      <td>4thFromOurStar</td>\n",
       "      <td>The Milkyway Galaxy</td>\n",
       "      <td>2021-01-07</td>\n",
       "      <td>en</td>\n",
       "      <td>.@elonmusk when's our first date? you've been ...</td>\n",
       "      <td>4533.0</td>\n",
       "      <td>72.0</td>\n",
       "      <td>253</td>\n",
       "      <td>[elonmusk, first, date, teasing, coming]</td>\n",
       "    </tr>\n",
       "    <tr>\n",
       "      <th>2</th>\n",
       "      <td>1091459141397180416</td>\n",
       "      <td>4thFromOurStar</td>\n",
       "      <td>The Milkyway Galaxy</td>\n",
       "      <td>2020-10-29</td>\n",
       "      <td>en</td>\n",
       "      <td>please populate mars with them 🙏 https://t.co/...</td>\n",
       "      <td>4533.0</td>\n",
       "      <td>72.0</td>\n",
       "      <td>253</td>\n",
       "      <td>[please, populate, mars, co, lukewptxzy]</td>\n",
       "    </tr>\n",
       "    <tr>\n",
       "      <th>3</th>\n",
       "      <td>1091459141397180416</td>\n",
       "      <td>4thFromOurStar</td>\n",
       "      <td>The Milkyway Galaxy</td>\n",
       "      <td>2020-09-15</td>\n",
       "      <td>und</td>\n",
       "      <td>rt @elonmusk: https://t.co/vn0rv0yq5q</td>\n",
       "      <td>4533.0</td>\n",
       "      <td>72.0</td>\n",
       "      <td>253</td>\n",
       "      <td>[rt, elonmusk, co, vn0rv0yq5q]</td>\n",
       "    </tr>\n",
       "    <tr>\n",
       "      <th>4</th>\n",
       "      <td>1091459141397180416</td>\n",
       "      <td>4thFromOurStar</td>\n",
       "      <td>The Milkyway Galaxy</td>\n",
       "      <td>2020-09-15</td>\n",
       "      <td>en</td>\n",
       "      <td>venus may have some life on her after all, so ...</td>\n",
       "      <td>4533.0</td>\n",
       "      <td>72.0</td>\n",
       "      <td>253</td>\n",
       "      <td>[venus, may, life, proud, even, hellish, planet]</td>\n",
       "    </tr>\n",
       "  </tbody>\n",
       "</table>\n",
       "</div>"
      ],
      "text/plain": [
       "               user_id     screen_name             location created_date lang  \\\n",
       "0  1091459141397180416  4thFromOurStar  The Milkyway Galaxy   2021-01-07   en   \n",
       "1  1091459141397180416  4thFromOurStar  The Milkyway Galaxy   2021-01-07   en   \n",
       "2  1091459141397180416  4thFromOurStar  The Milkyway Galaxy   2020-10-29   en   \n",
       "3  1091459141397180416  4thFromOurStar  The Milkyway Galaxy   2020-09-15  und   \n",
       "4  1091459141397180416  4thFromOurStar  The Milkyway Galaxy   2020-09-15   en   \n",
       "\n",
       "                                                text  favorites_count  \\\n",
       "0  i do enjoy playing hard to get 😉 https://t.co/...           4533.0   \n",
       "1  .@elonmusk when's our first date? you've been ...           4533.0   \n",
       "2  please populate mars with them 🙏 https://t.co/...           4533.0   \n",
       "3              rt @elonmusk: https://t.co/vn0rv0yq5q           4533.0   \n",
       "4  venus may have some life on her after all, so ...           4533.0   \n",
       "\n",
       "   friends_count  statuses_count  \\\n",
       "0           72.0             253   \n",
       "1           72.0             253   \n",
       "2           72.0             253   \n",
       "3           72.0             253   \n",
       "4           72.0             253   \n",
       "\n",
       "                                         text_trans  \n",
       "0       [enjoy, playing, hard, get, co, rpundysyzs]  \n",
       "1          [elonmusk, first, date, teasing, coming]  \n",
       "2          [please, populate, mars, co, lukewptxzy]  \n",
       "3                    [rt, elonmusk, co, vn0rv0yq5q]  \n",
       "4  [venus, may, life, proud, even, hellish, planet]  "
      ]
     },
     "execution_count": 29,
     "metadata": {},
     "output_type": "execute_result"
    }
   ],
   "source": [
    " #Remove stopwords \n",
    "\n",
    "df['text_trans'] = df['text_trans'].apply(lambda x: \n",
    "                                          [word for word in x if word not in stopwords])\n",
    "df.head()"
   ]
  },
  {
   "cell_type": "code",
   "execution_count": 30,
   "metadata": {},
   "outputs": [
    {
     "data": {
      "text/html": [
       "<div>\n",
       "<style scoped>\n",
       "    .dataframe tbody tr th:only-of-type {\n",
       "        vertical-align: middle;\n",
       "    }\n",
       "\n",
       "    .dataframe tbody tr th {\n",
       "        vertical-align: top;\n",
       "    }\n",
       "\n",
       "    .dataframe thead th {\n",
       "        text-align: right;\n",
       "    }\n",
       "</style>\n",
       "<table border=\"1\" class=\"dataframe\">\n",
       "  <thead>\n",
       "    <tr style=\"text-align: right;\">\n",
       "      <th></th>\n",
       "      <th>user_id</th>\n",
       "      <th>screen_name</th>\n",
       "      <th>location</th>\n",
       "      <th>created_date</th>\n",
       "      <th>lang</th>\n",
       "      <th>text</th>\n",
       "      <th>favorites_count</th>\n",
       "      <th>friends_count</th>\n",
       "      <th>statuses_count</th>\n",
       "      <th>text_trans</th>\n",
       "    </tr>\n",
       "  </thead>\n",
       "  <tbody>\n",
       "    <tr>\n",
       "      <th>0</th>\n",
       "      <td>1091459141397180416</td>\n",
       "      <td>4thFromOurStar</td>\n",
       "      <td>The Milkyway Galaxy</td>\n",
       "      <td>2021-01-07</td>\n",
       "      <td>en</td>\n",
       "      <td>i do enjoy playing hard to get 😉 https://t.co/...</td>\n",
       "      <td>4533.0</td>\n",
       "      <td>72.0</td>\n",
       "      <td>253</td>\n",
       "      <td>enjoy playing hard get rpundysyzs</td>\n",
       "    </tr>\n",
       "    <tr>\n",
       "      <th>1</th>\n",
       "      <td>1091459141397180416</td>\n",
       "      <td>4thFromOurStar</td>\n",
       "      <td>The Milkyway Galaxy</td>\n",
       "      <td>2021-01-07</td>\n",
       "      <td>en</td>\n",
       "      <td>.@elonmusk when's our first date? you've been ...</td>\n",
       "      <td>4533.0</td>\n",
       "      <td>72.0</td>\n",
       "      <td>253</td>\n",
       "      <td>elonmusk first date teasing coming</td>\n",
       "    </tr>\n",
       "    <tr>\n",
       "      <th>2</th>\n",
       "      <td>1091459141397180416</td>\n",
       "      <td>4thFromOurStar</td>\n",
       "      <td>The Milkyway Galaxy</td>\n",
       "      <td>2020-10-29</td>\n",
       "      <td>en</td>\n",
       "      <td>please populate mars with them 🙏 https://t.co/...</td>\n",
       "      <td>4533.0</td>\n",
       "      <td>72.0</td>\n",
       "      <td>253</td>\n",
       "      <td>please populate mars lukewptxzy</td>\n",
       "    </tr>\n",
       "    <tr>\n",
       "      <th>3</th>\n",
       "      <td>1091459141397180416</td>\n",
       "      <td>4thFromOurStar</td>\n",
       "      <td>The Milkyway Galaxy</td>\n",
       "      <td>2020-09-15</td>\n",
       "      <td>und</td>\n",
       "      <td>rt @elonmusk: https://t.co/vn0rv0yq5q</td>\n",
       "      <td>4533.0</td>\n",
       "      <td>72.0</td>\n",
       "      <td>253</td>\n",
       "      <td>elonmusk vn0rv0yq5q</td>\n",
       "    </tr>\n",
       "    <tr>\n",
       "      <th>4</th>\n",
       "      <td>1091459141397180416</td>\n",
       "      <td>4thFromOurStar</td>\n",
       "      <td>The Milkyway Galaxy</td>\n",
       "      <td>2020-09-15</td>\n",
       "      <td>en</td>\n",
       "      <td>venus may have some life on her after all, so ...</td>\n",
       "      <td>4533.0</td>\n",
       "      <td>72.0</td>\n",
       "      <td>253</td>\n",
       "      <td>venus may life proud even hellish planet</td>\n",
       "    </tr>\n",
       "  </tbody>\n",
       "</table>\n",
       "</div>"
      ],
      "text/plain": [
       "               user_id     screen_name             location created_date lang  \\\n",
       "0  1091459141397180416  4thFromOurStar  The Milkyway Galaxy   2021-01-07   en   \n",
       "1  1091459141397180416  4thFromOurStar  The Milkyway Galaxy   2021-01-07   en   \n",
       "2  1091459141397180416  4thFromOurStar  The Milkyway Galaxy   2020-10-29   en   \n",
       "3  1091459141397180416  4thFromOurStar  The Milkyway Galaxy   2020-09-15  und   \n",
       "4  1091459141397180416  4thFromOurStar  The Milkyway Galaxy   2020-09-15   en   \n",
       "\n",
       "                                                text  favorites_count  \\\n",
       "0  i do enjoy playing hard to get 😉 https://t.co/...           4533.0   \n",
       "1  .@elonmusk when's our first date? you've been ...           4533.0   \n",
       "2  please populate mars with them 🙏 https://t.co/...           4533.0   \n",
       "3              rt @elonmusk: https://t.co/vn0rv0yq5q           4533.0   \n",
       "4  venus may have some life on her after all, so ...           4533.0   \n",
       "\n",
       "   friends_count  statuses_count                                text_trans  \n",
       "0           72.0             253         enjoy playing hard get rpundysyzs  \n",
       "1           72.0             253        elonmusk first date teasing coming  \n",
       "2           72.0             253           please populate mars lukewptxzy  \n",
       "3           72.0             253                       elonmusk vn0rv0yq5q  \n",
       "4           72.0             253  venus may life proud even hellish planet  "
      ]
     },
     "execution_count": 30,
     "metadata": {},
     "output_type": "execute_result"
    }
   ],
   "source": [
    "#removing infrequent words \n",
    "df['text_trans'] = df['text_trans'].apply(lambda x: ' '.join([word for word in x if len(word)>2]))\n",
    "df.head()"
   ]
  },
  {
   "cell_type": "code",
   "execution_count": 31,
   "metadata": {},
   "outputs": [
    {
     "name": "stderr",
     "output_type": "stream",
     "text": [
      "[nltk_data] Downloading package wordnet to\n",
      "[nltk_data]     C:\\Users\\HP\\AppData\\Roaming\\nltk_data...\n",
      "[nltk_data]   Package wordnet is already up-to-date!\n"
     ]
    },
    {
     "data": {
      "text/plain": [
       "True"
      ]
     },
     "execution_count": 31,
     "metadata": {},
     "output_type": "execute_result"
    }
   ],
   "source": [
    "nltk.download('wordnet')"
   ]
  },
  {
   "cell_type": "code",
   "execution_count": 32,
   "metadata": {
    "scrolled": true
   },
   "outputs": [
    {
     "data": {
      "text/html": [
       "<div>\n",
       "<style scoped>\n",
       "    .dataframe tbody tr th:only-of-type {\n",
       "        vertical-align: middle;\n",
       "    }\n",
       "\n",
       "    .dataframe tbody tr th {\n",
       "        vertical-align: top;\n",
       "    }\n",
       "\n",
       "    .dataframe thead th {\n",
       "        text-align: right;\n",
       "    }\n",
       "</style>\n",
       "<table border=\"1\" class=\"dataframe\">\n",
       "  <thead>\n",
       "    <tr style=\"text-align: right;\">\n",
       "      <th></th>\n",
       "      <th>user_id</th>\n",
       "      <th>screen_name</th>\n",
       "      <th>location</th>\n",
       "      <th>created_date</th>\n",
       "      <th>lang</th>\n",
       "      <th>text</th>\n",
       "      <th>favorites_count</th>\n",
       "      <th>friends_count</th>\n",
       "      <th>statuses_count</th>\n",
       "      <th>text_trans</th>\n",
       "    </tr>\n",
       "  </thead>\n",
       "  <tbody>\n",
       "    <tr>\n",
       "      <th>0</th>\n",
       "      <td>1091459141397180416</td>\n",
       "      <td>4thFromOurStar</td>\n",
       "      <td>The Milkyway Galaxy</td>\n",
       "      <td>2021-01-07</td>\n",
       "      <td>en</td>\n",
       "      <td>i do enjoy playing hard to get 😉 https://t.co/...</td>\n",
       "      <td>4533.0</td>\n",
       "      <td>72.0</td>\n",
       "      <td>253</td>\n",
       "      <td>enjoy playing hard get rpundysyzs</td>\n",
       "    </tr>\n",
       "    <tr>\n",
       "      <th>1</th>\n",
       "      <td>1091459141397180416</td>\n",
       "      <td>4thFromOurStar</td>\n",
       "      <td>The Milkyway Galaxy</td>\n",
       "      <td>2021-01-07</td>\n",
       "      <td>en</td>\n",
       "      <td>.@elonmusk when's our first date? you've been ...</td>\n",
       "      <td>4533.0</td>\n",
       "      <td>72.0</td>\n",
       "      <td>253</td>\n",
       "      <td>elonmusk first date teasing coming</td>\n",
       "    </tr>\n",
       "    <tr>\n",
       "      <th>2</th>\n",
       "      <td>1091459141397180416</td>\n",
       "      <td>4thFromOurStar</td>\n",
       "      <td>The Milkyway Galaxy</td>\n",
       "      <td>2020-10-29</td>\n",
       "      <td>en</td>\n",
       "      <td>please populate mars with them 🙏 https://t.co/...</td>\n",
       "      <td>4533.0</td>\n",
       "      <td>72.0</td>\n",
       "      <td>253</td>\n",
       "      <td>please populate mars lukewptxzy</td>\n",
       "    </tr>\n",
       "    <tr>\n",
       "      <th>3</th>\n",
       "      <td>1091459141397180416</td>\n",
       "      <td>4thFromOurStar</td>\n",
       "      <td>The Milkyway Galaxy</td>\n",
       "      <td>2020-09-15</td>\n",
       "      <td>und</td>\n",
       "      <td>rt @elonmusk: https://t.co/vn0rv0yq5q</td>\n",
       "      <td>4533.0</td>\n",
       "      <td>72.0</td>\n",
       "      <td>253</td>\n",
       "      <td>elonmusk vn0rv0yq5q</td>\n",
       "    </tr>\n",
       "    <tr>\n",
       "      <th>4</th>\n",
       "      <td>1091459141397180416</td>\n",
       "      <td>4thFromOurStar</td>\n",
       "      <td>The Milkyway Galaxy</td>\n",
       "      <td>2020-09-15</td>\n",
       "      <td>en</td>\n",
       "      <td>venus may have some life on her after all, so ...</td>\n",
       "      <td>4533.0</td>\n",
       "      <td>72.0</td>\n",
       "      <td>253</td>\n",
       "      <td>venus may life proud even hellish planet</td>\n",
       "    </tr>\n",
       "  </tbody>\n",
       "</table>\n",
       "</div>"
      ],
      "text/plain": [
       "               user_id     screen_name             location created_date lang  \\\n",
       "0  1091459141397180416  4thFromOurStar  The Milkyway Galaxy   2021-01-07   en   \n",
       "1  1091459141397180416  4thFromOurStar  The Milkyway Galaxy   2021-01-07   en   \n",
       "2  1091459141397180416  4thFromOurStar  The Milkyway Galaxy   2020-10-29   en   \n",
       "3  1091459141397180416  4thFromOurStar  The Milkyway Galaxy   2020-09-15  und   \n",
       "4  1091459141397180416  4thFromOurStar  The Milkyway Galaxy   2020-09-15   en   \n",
       "\n",
       "                                                text  favorites_count  \\\n",
       "0  i do enjoy playing hard to get 😉 https://t.co/...           4533.0   \n",
       "1  .@elonmusk when's our first date? you've been ...           4533.0   \n",
       "2  please populate mars with them 🙏 https://t.co/...           4533.0   \n",
       "3              rt @elonmusk: https://t.co/vn0rv0yq5q           4533.0   \n",
       "4  venus may have some life on her after all, so ...           4533.0   \n",
       "\n",
       "   friends_count  statuses_count                                text_trans  \n",
       "0           72.0             253         enjoy playing hard get rpundysyzs  \n",
       "1           72.0             253        elonmusk first date teasing coming  \n",
       "2           72.0             253           please populate mars lukewptxzy  \n",
       "3           72.0             253                       elonmusk vn0rv0yq5q  \n",
       "4           72.0             253  venus may life proud even hellish planet  "
      ]
     },
     "execution_count": 32,
     "metadata": {},
     "output_type": "execute_result"
    }
   ],
   "source": [
    "from nltk.stem import WordNetLemmatizer\n",
    "\n",
    "wordnet_lem = WordNetLemmatizer()\n",
    "\n",
    "df['text_trans'] = df['text_trans'].apply(wordnet_lem.lemmatize)\n",
    "df.head()"
   ]
  },
  {
   "cell_type": "markdown",
   "metadata": {},
   "source": [
    "### Unique Users"
   ]
  },
  {
   "cell_type": "code",
   "execution_count": 50,
   "metadata": {},
   "outputs": [
    {
     "data": {
      "text/plain": [
       "192"
      ]
     },
     "execution_count": 50,
     "metadata": {},
     "output_type": "execute_result"
    }
   ],
   "source": [
    "df['user_id'].nunique()"
   ]
  },
  {
   "cell_type": "code",
   "execution_count": 81,
   "metadata": {},
   "outputs": [
    {
     "data": {
      "image/png": "[encoded data removed]",
      "text/plain": [
       "<Figure size 432x288 with 2 Axes>"
      ]
     },
     "metadata": {
      "needs_background": "light"
     },
     "output_type": "display_data"
    }
   ],
   "source": [
    "import seaborn as sns\n",
    "\n",
    "import matplotlib.pyplot as plt\n",
    "\n",
    "hm = sns.heatmap(df.corr(), annot = True)\n",
    "\n",
    "hm.set(title = \"Correlation matrix\\n\")\n",
    "\n",
    "plt.show()"
   ]
  },
  {
   "cell_type": "markdown",
   "metadata": {},
   "source": [
    "## Sentiment"
   ]
  },
  {
   "cell_type": "code",
   "execution_count": 33,
   "metadata": {},
   "outputs": [
    {
     "name": "stderr",
     "output_type": "stream",
     "text": [
      "[nltk_data] Downloading package vader_lexicon to\n",
      "[nltk_data]     C:\\Users\\HP\\AppData\\Roaming\\nltk_data...\n",
      "[nltk_data]   Package vader_lexicon is already up-to-date!\n",
      "[nltk_data] Downloading package words to\n",
      "[nltk_data]     C:\\Users\\HP\\AppData\\Roaming\\nltk_data...\n",
      "[nltk_data]   Package words is already up-to-date!\n"
     ]
    }
   ],
   "source": [
    "import nltk\n",
    "nltk.download('vader_lexicon')\n",
    "from nltk.sentiment.vader import SentimentIntensityAnalyzer\n",
    "\n",
    "sid = SentimentIntensityAnalyzer()\n",
    "\n",
    "import re\n",
    "import pandas as pd\n",
    "import nltk\n",
    "nltk.download('words')\n",
    "words = set(nltk.corpus.words.words())"
   ]
  },
  {
   "cell_type": "code",
   "execution_count": 34,
   "metadata": {},
   "outputs": [
    {
     "data": {
      "text/plain": [
       "0.5574"
      ]
     },
     "execution_count": 34,
     "metadata": {},
     "output_type": "execute_result"
    }
   ],
   "source": [
    "sentence = df['text_trans'][0]\n",
    "sid.polarity_scores(sentence)['compound']"
   ]
  },
  {
   "cell_type": "code",
   "execution_count": 35,
   "metadata": {},
   "outputs": [],
   "source": [
    "def cleaner(tweet):\n",
    "    tweet = re.sub(\"@[A-Za-z0-9]+\",\"\",tweet) #Remove @ sign\n",
    "    tweet = re.sub(r\"(?:\\@|http?\\://|https?\\://|www)\\S+\", \"\", tweet) #Remove http links\n",
    "    tweet = \" \".join(tweet.split())\n",
    "    tweet = tweet.replace(\"#\", \"\").replace(\"_\", \" \") #Remove hashtag sign but keep the text\n",
    "    tweet = \" \".join(w for w in nltk.wordpunct_tokenize(tweet)\n",
    "         if w.lower() in words or not w.isalpha())\n",
    "    return tweet\n",
    "    \n",
    "\n",
    "df['tweet_clean'] = df['text_trans'].apply(cleaner)"
   ]
  },
  {
   "cell_type": "code",
   "execution_count": 36,
   "metadata": {},
   "outputs": [
    {
     "name": "stderr",
     "output_type": "stream",
     "text": [
      "[nltk_data] Downloading package vader_lexicon to\n",
      "[nltk_data]     C:\\Users\\HP\\AppData\\Roaming\\nltk_data...\n",
      "[nltk_data]   Package vader_lexicon is already up-to-date!\n"
     ]
    }
   ],
   "source": [
    "word_dict = {'manipulate':-1,'manipulative':-1,'jamescharlesiscancelled':-1,'jamescharlesisoverparty':-1,\n",
    "            'pedophile':-1,'pedo':-1,'cancel':-1,'cancelled':-1,'cancel culture':0.4,'teamtati':-1,'teamjames':1,\n",
    "            'teamjamescharles':1,'liar':-1}\n",
    "\n",
    "import nltk\n",
    "nltk.download('vader_lexicon')\n",
    "from nltk.sentiment.vader import SentimentIntensityAnalyzer\n",
    "\n",
    "sid = SentimentIntensityAnalyzer()\n",
    "sid.lexicon.update(word_dict)\n",
    "\n",
    "list1 = []\n",
    "for i in df['tweet_clean']:\n",
    "    list1.append((sid.polarity_scores(str(i)))['compound'])"
   ]
  },
  {
   "cell_type": "code",
   "execution_count": 37,
   "metadata": {},
   "outputs": [],
   "source": [
    "df['sentiment'] = pd.Series(list1)\n",
    "\n",
    "def sentiment_category(sentiment):\n",
    "    label = ''\n",
    "    if(sentiment>0):\n",
    "        label = 'positive'\n",
    "    elif(sentiment == 0):\n",
    "        label = 'neutral'\n",
    "    else:\n",
    "        label = 'negative'\n",
    "    return(label)\n",
    "\n",
    "df['sentiment_category'] = df['sentiment'].apply(sentiment_category)"
   ]
  },
  {
   "cell_type": "code",
   "execution_count": 38,
   "metadata": {},
   "outputs": [],
   "source": [
    "sent = df[['text_trans','sentiment','sentiment_category']]"
   ]
  },
  {
   "cell_type": "code",
   "execution_count": 39,
   "metadata": {},
   "outputs": [
    {
     "data": {
      "text/html": [
       "<div>\n",
       "<style scoped>\n",
       "    .dataframe tbody tr th:only-of-type {\n",
       "        vertical-align: middle;\n",
       "    }\n",
       "\n",
       "    .dataframe tbody tr th {\n",
       "        vertical-align: top;\n",
       "    }\n",
       "\n",
       "    .dataframe thead th {\n",
       "        text-align: right;\n",
       "    }\n",
       "</style>\n",
       "<table border=\"1\" class=\"dataframe\">\n",
       "  <thead>\n",
       "    <tr style=\"text-align: right;\">\n",
       "      <th></th>\n",
       "      <th>text_trans</th>\n",
       "      <th>sentiment</th>\n",
       "      <th>sentiment_category</th>\n",
       "    </tr>\n",
       "  </thead>\n",
       "  <tbody>\n",
       "    <tr>\n",
       "      <th>0</th>\n",
       "      <td>enjoy playing hard get rpundysyzs</td>\n",
       "      <td>0.4215</td>\n",
       "      <td>positive</td>\n",
       "    </tr>\n",
       "    <tr>\n",
       "      <th>1</th>\n",
       "      <td>elonmusk first date teasing coming</td>\n",
       "      <td>-0.0772</td>\n",
       "      <td>negative</td>\n",
       "    </tr>\n",
       "    <tr>\n",
       "      <th>2</th>\n",
       "      <td>please populate mars lukewptxzy</td>\n",
       "      <td>0.3182</td>\n",
       "      <td>positive</td>\n",
       "    </tr>\n",
       "    <tr>\n",
       "      <th>3</th>\n",
       "      <td>elonmusk vn0rv0yq5q</td>\n",
       "      <td>0.0000</td>\n",
       "      <td>neutral</td>\n",
       "    </tr>\n",
       "    <tr>\n",
       "      <th>4</th>\n",
       "      <td>venus may life proud even hellish planet</td>\n",
       "      <td>-0.6369</td>\n",
       "      <td>negative</td>\n",
       "    </tr>\n",
       "  </tbody>\n",
       "</table>\n",
       "</div>"
      ],
      "text/plain": [
       "                                 text_trans  sentiment sentiment_category\n",
       "0         enjoy playing hard get rpundysyzs     0.4215           positive\n",
       "1        elonmusk first date teasing coming    -0.0772           negative\n",
       "2           please populate mars lukewptxzy     0.3182           positive\n",
       "3                       elonmusk vn0rv0yq5q     0.0000            neutral\n",
       "4  venus may life proud even hellish planet    -0.6369           negative"
      ]
     },
     "execution_count": 39,
     "metadata": {},
     "output_type": "execute_result"
    }
   ],
   "source": [
    "sent.head(5)"
   ]
  },
  {
   "cell_type": "code",
   "execution_count": 42,
   "metadata": {},
   "outputs": [
    {
     "data": {
      "text/html": [
       "<div>\n",
       "<style scoped>\n",
       "    .dataframe tbody tr th:only-of-type {\n",
       "        vertical-align: middle;\n",
       "    }\n",
       "\n",
       "    .dataframe tbody tr th {\n",
       "        vertical-align: top;\n",
       "    }\n",
       "\n",
       "    .dataframe thead th {\n",
       "        text-align: right;\n",
       "    }\n",
       "</style>\n",
       "<table border=\"1\" class=\"dataframe\">\n",
       "  <thead>\n",
       "    <tr style=\"text-align: right;\">\n",
       "      <th></th>\n",
       "      <th>sentiment</th>\n",
       "    </tr>\n",
       "  </thead>\n",
       "  <tbody>\n",
       "    <tr>\n",
       "      <th>count</th>\n",
       "      <td>42831.000000</td>\n",
       "    </tr>\n",
       "    <tr>\n",
       "      <th>mean</th>\n",
       "      <td>0.131312</td>\n",
       "    </tr>\n",
       "    <tr>\n",
       "      <th>std</th>\n",
       "      <td>0.347312</td>\n",
       "    </tr>\n",
       "    <tr>\n",
       "      <th>min</th>\n",
       "      <td>-0.965700</td>\n",
       "    </tr>\n",
       "    <tr>\n",
       "      <th>25%</th>\n",
       "      <td>0.000000</td>\n",
       "    </tr>\n",
       "    <tr>\n",
       "      <th>50%</th>\n",
       "      <td>0.000000</td>\n",
       "    </tr>\n",
       "    <tr>\n",
       "      <th>75%</th>\n",
       "      <td>0.401900</td>\n",
       "    </tr>\n",
       "    <tr>\n",
       "      <th>max</th>\n",
       "      <td>0.974100</td>\n",
       "    </tr>\n",
       "  </tbody>\n",
       "</table>\n",
       "</div>"
      ],
      "text/plain": [
       "          sentiment\n",
       "count  42831.000000\n",
       "mean       0.131312\n",
       "std        0.347312\n",
       "min       -0.965700\n",
       "25%        0.000000\n",
       "50%        0.000000\n",
       "75%        0.401900\n",
       "max        0.974100"
      ]
     },
     "execution_count": 42,
     "metadata": {},
     "output_type": "execute_result"
    }
   ],
   "source": [
    "sent.describe()"
   ]
  },
  {
   "cell_type": "code",
   "execution_count": 43,
   "metadata": {},
   "outputs": [
    {
     "data": {
      "text/plain": [
       "text_trans            0\n",
       "sentiment             0\n",
       "sentiment_category    0\n",
       "dtype: int64"
      ]
     },
     "execution_count": 43,
     "metadata": {},
     "output_type": "execute_result"
    }
   ],
   "source": [
    "sent.isnull().sum()"
   ]
  },
  {
   "cell_type": "code",
   "execution_count": 45,
   "metadata": {},
   "outputs": [
    {
     "name": "stdout",
     "output_type": "stream",
     "text": [
      "\n",
      "\u001b[1mInference:\u001b[0m Number of duplicates dropped/fixed ---> 335\n"
     ]
    }
   ],
   "source": [
    "counter = 0\n",
    "r,c = sent.shape\n",
    "\n",
    "sent1 = sent.drop_duplicates()\n",
    "sent1.reset_index(drop=True, inplace=True)\n",
    "\n",
    "if sent1.shape==(r,c):\n",
    "    print('\\n\\033[1mInference:\\033[0m The dataset doesn\\'t have any duplicates')\n",
    "else:\n",
    "    print(f'\\n\\033[1mInference:\\033[0m Number of duplicates dropped/fixed ---> {r-sent1.shape[0]}')"
   ]
  },
  {
   "cell_type": "code",
   "execution_count": 82,
   "metadata": {},
   "outputs": [
    {
     "name": "stdout",
     "output_type": "stream",
     "text": [
      "               \u001b[1mSentiment Distribution              \n"
     ]
    },
    {
     "data": {
      "image/png": "[encoded data removed]",
      "text/plain": [
       "<Figure size 432x288 with 1 Axes>"
      ]
     },
     "metadata": {},
     "output_type": "display_data"
    }
   ],
   "source": [
    "import matplotlib.pyplot as plt\n",
    "print('\\033[1mSentiment Distribution'.center(55))\n",
    "plt.pie(sent['sentiment_category'].value_counts(), labels=['Neutral','Positive','Negative'], counterclock=False, shadow=True, \n",
    "        explode=[0,0,0.08], autopct='%1.1f%%', radius=1, startangle=0)\n",
    "plt.show()"
   ]
  }
 ],
 "metadata": {
  "colab": {
   "name": "Database.ipynb",
   "provenance": []
  },
  "kernelspec": {
   "display_name": "Python 3 (ipykernel)",
   "language": "python",
   "name": "python3"
  },
  "language_info": {
   "codemirror_mode": {
    "name": "ipython",
    "version": 3
   },
   "file_extension": ".py",
   "mimetype": "text/x-python",
   "name": "python",
   "nbconvert_exporter": "python",
   "pygments_lexer": "ipython3",
   "version": "3.9.7"
  }
 },
 "nbformat": 4,
 "nbformat_minor": 1
}
